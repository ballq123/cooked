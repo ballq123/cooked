{
  "metadata": {
    "kernelspec": {
      "name": "python3",
      "display_name": "Python 3",
      "language": "python"
    },
    "language_info": {
      "codemirror_mode": {
        "name": "ipython",
        "version": 3
      },
      "file_extension": ".py",
      "mimetype": "text/x-python",
      "name": "python",
      "nbconvert_exporter": "python",
      "pygments_lexer": "ipython3",
      "version": "3.10.12"
    },
    "colab": {
      "provenance": [],
      "machine_shape": "hm",
      "gpuType": "T4"
    },
    "kaggle": {
      "accelerator": "nvidiaTeslaT4",
      "dataSources": [
        {
          "sourceId": 90913,
          "databundleVersionId": 10829548,
          "sourceType": "competition"
        }
      ],
      "dockerImageVersionId": 30840,
      "isInternetEnabled": true,
      "language": "python",
      "sourceType": "notebook",
      "isGpuEnabled": true
    },
    "vscode": {
      "interpreter": {
        "hash": "b0fa6594d8f4cbf19f97940f81e996739fb7646882a419484c72d19e05852a7e"
      }
    },
    "accelerator": "GPU",
    "widgets": {
      "application/vnd.jupyter.widget-state+json": {
        "9b1c745e5872446f9b153df68ab554db": {
          "model_module": "@jupyter-widgets/controls",
          "model_name": "HBoxModel",
          "model_module_version": "1.5.0",
          "state": {
            "_dom_classes": [],
            "_model_module": "@jupyter-widgets/controls",
            "_model_module_version": "1.5.0",
            "_model_name": "HBoxModel",
            "_view_count": null,
            "_view_module": "@jupyter-widgets/controls",
            "_view_module_version": "1.5.0",
            "_view_name": "HBoxView",
            "box_style": "",
            "children": [
              "IPY_MODEL_3ac85447b2d04c38b78be50f567f4285",
              "IPY_MODEL_63f1f1a1d0244898ab2a5279c740e90b",
              "IPY_MODEL_b89994d93dfc45029d9e5bf8849b4265"
            ],
            "layout": "IPY_MODEL_2ff04dbb7a8c410dae79c2baad57dcc0"
          }
        },
        "3ac85447b2d04c38b78be50f567f4285": {
          "model_module": "@jupyter-widgets/controls",
          "model_name": "HTMLModel",
          "model_module_version": "1.5.0",
          "state": {
            "_dom_classes": [],
            "_model_module": "@jupyter-widgets/controls",
            "_model_module_version": "1.5.0",
            "_model_name": "HTMLModel",
            "_view_count": null,
            "_view_module": "@jupyter-widgets/controls",
            "_view_module_version": "1.5.0",
            "_view_name": "HTMLView",
            "description": "",
            "description_tooltip": null,
            "layout": "IPY_MODEL_7ae70ed09e4940ae9fb5ed33992d2311",
            "placeholder": "​",
            "style": "IPY_MODEL_5fd10f61d85944d8ae602042ba946a83",
            "value": "100%"
          }
        },
        "63f1f1a1d0244898ab2a5279c740e90b": {
          "model_module": "@jupyter-widgets/controls",
          "model_name": "FloatProgressModel",
          "model_module_version": "1.5.0",
          "state": {
            "_dom_classes": [],
            "_model_module": "@jupyter-widgets/controls",
            "_model_module_version": "1.5.0",
            "_model_name": "FloatProgressModel",
            "_view_count": null,
            "_view_module": "@jupyter-widgets/controls",
            "_view_module_version": "1.5.0",
            "_view_name": "ProgressView",
            "bar_style": "success",
            "description": "",
            "description_tooltip": null,
            "layout": "IPY_MODEL_42a4024c925740099ce086ef759a40eb",
            "max": 28539,
            "min": 0,
            "orientation": "horizontal",
            "style": "IPY_MODEL_daa9d2ee1ad04a51a521612a708eaa25",
            "value": 28539
          }
        },
        "b89994d93dfc45029d9e5bf8849b4265": {
          "model_module": "@jupyter-widgets/controls",
          "model_name": "HTMLModel",
          "model_module_version": "1.5.0",
          "state": {
            "_dom_classes": [],
            "_model_module": "@jupyter-widgets/controls",
            "_model_module_version": "1.5.0",
            "_model_name": "HTMLModel",
            "_view_count": null,
            "_view_module": "@jupyter-widgets/controls",
            "_view_module_version": "1.5.0",
            "_view_name": "HTMLView",
            "description": "",
            "description_tooltip": null,
            "layout": "IPY_MODEL_46d30b5960dd4b6797eff47868c13cc4",
            "placeholder": "​",
            "style": "IPY_MODEL_e641f2ad0e814b25b0e19eef7a5b5033",
            "value": " 28539/28539 [00:49&lt;00:00, 704.68it/s]"
          }
        },
        "2ff04dbb7a8c410dae79c2baad57dcc0": {
          "model_module": "@jupyter-widgets/base",
          "model_name": "LayoutModel",
          "model_module_version": "1.2.0",
          "state": {
            "_model_module": "@jupyter-widgets/base",
            "_model_module_version": "1.2.0",
            "_model_name": "LayoutModel",
            "_view_count": null,
            "_view_module": "@jupyter-widgets/base",
            "_view_module_version": "1.2.0",
            "_view_name": "LayoutView",
            "align_content": null,
            "align_items": null,
            "align_self": null,
            "border": null,
            "bottom": null,
            "display": null,
            "flex": null,
            "flex_flow": null,
            "grid_area": null,
            "grid_auto_columns": null,
            "grid_auto_flow": null,
            "grid_auto_rows": null,
            "grid_column": null,
            "grid_gap": null,
            "grid_row": null,
            "grid_template_areas": null,
            "grid_template_columns": null,
            "grid_template_rows": null,
            "height": null,
            "justify_content": null,
            "justify_items": null,
            "left": null,
            "margin": null,
            "max_height": null,
            "max_width": null,
            "min_height": null,
            "min_width": null,
            "object_fit": null,
            "object_position": null,
            "order": null,
            "overflow": null,
            "overflow_x": null,
            "overflow_y": null,
            "padding": null,
            "right": null,
            "top": null,
            "visibility": null,
            "width": null
          }
        },
        "7ae70ed09e4940ae9fb5ed33992d2311": {
          "model_module": "@jupyter-widgets/base",
          "model_name": "LayoutModel",
          "model_module_version": "1.2.0",
          "state": {
            "_model_module": "@jupyter-widgets/base",
            "_model_module_version": "1.2.0",
            "_model_name": "LayoutModel",
            "_view_count": null,
            "_view_module": "@jupyter-widgets/base",
            "_view_module_version": "1.2.0",
            "_view_name": "LayoutView",
            "align_content": null,
            "align_items": null,
            "align_self": null,
            "border": null,
            "bottom": null,
            "display": null,
            "flex": null,
            "flex_flow": null,
            "grid_area": null,
            "grid_auto_columns": null,
            "grid_auto_flow": null,
            "grid_auto_rows": null,
            "grid_column": null,
            "grid_gap": null,
            "grid_row": null,
            "grid_template_areas": null,
            "grid_template_columns": null,
            "grid_template_rows": null,
            "height": null,
            "justify_content": null,
            "justify_items": null,
            "left": null,
            "margin": null,
            "max_height": null,
            "max_width": null,
            "min_height": null,
            "min_width": null,
            "object_fit": null,
            "object_position": null,
            "order": null,
            "overflow": null,
            "overflow_x": null,
            "overflow_y": null,
            "padding": null,
            "right": null,
            "top": null,
            "visibility": null,
            "width": null
          }
        },
        "5fd10f61d85944d8ae602042ba946a83": {
          "model_module": "@jupyter-widgets/controls",
          "model_name": "DescriptionStyleModel",
          "model_module_version": "1.5.0",
          "state": {
            "_model_module": "@jupyter-widgets/controls",
            "_model_module_version": "1.5.0",
            "_model_name": "DescriptionStyleModel",
            "_view_count": null,
            "_view_module": "@jupyter-widgets/base",
            "_view_module_version": "1.2.0",
            "_view_name": "StyleView",
            "description_width": ""
          }
        },
        "42a4024c925740099ce086ef759a40eb": {
          "model_module": "@jupyter-widgets/base",
          "model_name": "LayoutModel",
          "model_module_version": "1.2.0",
          "state": {
            "_model_module": "@jupyter-widgets/base",
            "_model_module_version": "1.2.0",
            "_model_name": "LayoutModel",
            "_view_count": null,
            "_view_module": "@jupyter-widgets/base",
            "_view_module_version": "1.2.0",
            "_view_name": "LayoutView",
            "align_content": null,
            "align_items": null,
            "align_self": null,
            "border": null,
            "bottom": null,
            "display": null,
            "flex": null,
            "flex_flow": null,
            "grid_area": null,
            "grid_auto_columns": null,
            "grid_auto_flow": null,
            "grid_auto_rows": null,
            "grid_column": null,
            "grid_gap": null,
            "grid_row": null,
            "grid_template_areas": null,
            "grid_template_columns": null,
            "grid_template_rows": null,
            "height": null,
            "justify_content": null,
            "justify_items": null,
            "left": null,
            "margin": null,
            "max_height": null,
            "max_width": null,
            "min_height": null,
            "min_width": null,
            "object_fit": null,
            "object_position": null,
            "order": null,
            "overflow": null,
            "overflow_x": null,
            "overflow_y": null,
            "padding": null,
            "right": null,
            "top": null,
            "visibility": null,
            "width": null
          }
        },
        "daa9d2ee1ad04a51a521612a708eaa25": {
          "model_module": "@jupyter-widgets/controls",
          "model_name": "ProgressStyleModel",
          "model_module_version": "1.5.0",
          "state": {
            "_model_module": "@jupyter-widgets/controls",
            "_model_module_version": "1.5.0",
            "_model_name": "ProgressStyleModel",
            "_view_count": null,
            "_view_module": "@jupyter-widgets/base",
            "_view_module_version": "1.2.0",
            "_view_name": "StyleView",
            "bar_color": null,
            "description_width": ""
          }
        },
        "46d30b5960dd4b6797eff47868c13cc4": {
          "model_module": "@jupyter-widgets/base",
          "model_name": "LayoutModel",
          "model_module_version": "1.2.0",
          "state": {
            "_model_module": "@jupyter-widgets/base",
            "_model_module_version": "1.2.0",
            "_model_name": "LayoutModel",
            "_view_count": null,
            "_view_module": "@jupyter-widgets/base",
            "_view_module_version": "1.2.0",
            "_view_name": "LayoutView",
            "align_content": null,
            "align_items": null,
            "align_self": null,
            "border": null,
            "bottom": null,
            "display": null,
            "flex": null,
            "flex_flow": null,
            "grid_area": null,
            "grid_auto_columns": null,
            "grid_auto_flow": null,
            "grid_auto_rows": null,
            "grid_column": null,
            "grid_gap": null,
            "grid_row": null,
            "grid_template_areas": null,
            "grid_template_columns": null,
            "grid_template_rows": null,
            "height": null,
            "justify_content": null,
            "justify_items": null,
            "left": null,
            "margin": null,
            "max_height": null,
            "max_width": null,
            "min_height": null,
            "min_width": null,
            "object_fit": null,
            "object_position": null,
            "order": null,
            "overflow": null,
            "overflow_x": null,
            "overflow_y": null,
            "padding": null,
            "right": null,
            "top": null,
            "visibility": null,
            "width": null
          }
        },
        "e641f2ad0e814b25b0e19eef7a5b5033": {
          "model_module": "@jupyter-widgets/controls",
          "model_name": "DescriptionStyleModel",
          "model_module_version": "1.5.0",
          "state": {
            "_model_module": "@jupyter-widgets/controls",
            "_model_module_version": "1.5.0",
            "_model_name": "DescriptionStyleModel",
            "_view_count": null,
            "_view_module": "@jupyter-widgets/base",
            "_view_module_version": "1.2.0",
            "_view_name": "StyleView",
            "description_width": ""
          }
        },
        "1e42efc9204d49b896d0d8802e94e044": {
          "model_module": "@jupyter-widgets/controls",
          "model_name": "HBoxModel",
          "model_module_version": "1.5.0",
          "state": {
            "_dom_classes": [],
            "_model_module": "@jupyter-widgets/controls",
            "_model_module_version": "1.5.0",
            "_model_name": "HBoxModel",
            "_view_count": null,
            "_view_module": "@jupyter-widgets/controls",
            "_view_module_version": "1.5.0",
            "_view_name": "HBoxView",
            "box_style": "",
            "children": [
              "IPY_MODEL_7863e5246b9741fc946fe07308fe39cb",
              "IPY_MODEL_b86d0638e6ce4d1ea11d8a8946ff4b0e",
              "IPY_MODEL_efba9c68d9794064a376b8b35a5e85ef"
            ],
            "layout": "IPY_MODEL_8cd50de468794593a60066e8ca75ef2a"
          }
        },
        "7863e5246b9741fc946fe07308fe39cb": {
          "model_module": "@jupyter-widgets/controls",
          "model_name": "HTMLModel",
          "model_module_version": "1.5.0",
          "state": {
            "_dom_classes": [],
            "_model_module": "@jupyter-widgets/controls",
            "_model_module_version": "1.5.0",
            "_model_name": "HTMLModel",
            "_view_count": null,
            "_view_module": "@jupyter-widgets/controls",
            "_view_module_version": "1.5.0",
            "_view_name": "HTMLView",
            "description": "",
            "description_tooltip": null,
            "layout": "IPY_MODEL_9f072ca2352e473bb3aebea7bf9dd7dd",
            "placeholder": "​",
            "style": "IPY_MODEL_d80a167151b9450189c281b13400da3b",
            "value": "100%"
          }
        },
        "b86d0638e6ce4d1ea11d8a8946ff4b0e": {
          "model_module": "@jupyter-widgets/controls",
          "model_name": "FloatProgressModel",
          "model_module_version": "1.5.0",
          "state": {
            "_dom_classes": [],
            "_model_module": "@jupyter-widgets/controls",
            "_model_module_version": "1.5.0",
            "_model_name": "FloatProgressModel",
            "_view_count": null,
            "_view_module": "@jupyter-widgets/controls",
            "_view_module_version": "1.5.0",
            "_view_name": "ProgressView",
            "bar_style": "success",
            "description": "",
            "description_tooltip": null,
            "layout": "IPY_MODEL_28c0225755934677b37e7ae7eceb5e0e",
            "max": 2703,
            "min": 0,
            "orientation": "horizontal",
            "style": "IPY_MODEL_dda2473a06e94e65904add24f1f04404",
            "value": 2703
          }
        },
        "efba9c68d9794064a376b8b35a5e85ef": {
          "model_module": "@jupyter-widgets/controls",
          "model_name": "HTMLModel",
          "model_module_version": "1.5.0",
          "state": {
            "_dom_classes": [],
            "_model_module": "@jupyter-widgets/controls",
            "_model_module_version": "1.5.0",
            "_model_name": "HTMLModel",
            "_view_count": null,
            "_view_module": "@jupyter-widgets/controls",
            "_view_module_version": "1.5.0",
            "_view_name": "HTMLView",
            "description": "",
            "description_tooltip": null,
            "layout": "IPY_MODEL_39de7cc9a12844d59193ae9eb610616e",
            "placeholder": "​",
            "style": "IPY_MODEL_2ce370e595e94e6085232de0106fd3b7",
            "value": " 2703/2703 [00:02&lt;00:00, 1077.58it/s]"
          }
        },
        "8cd50de468794593a60066e8ca75ef2a": {
          "model_module": "@jupyter-widgets/base",
          "model_name": "LayoutModel",
          "model_module_version": "1.2.0",
          "state": {
            "_model_module": "@jupyter-widgets/base",
            "_model_module_version": "1.2.0",
            "_model_name": "LayoutModel",
            "_view_count": null,
            "_view_module": "@jupyter-widgets/base",
            "_view_module_version": "1.2.0",
            "_view_name": "LayoutView",
            "align_content": null,
            "align_items": null,
            "align_self": null,
            "border": null,
            "bottom": null,
            "display": null,
            "flex": null,
            "flex_flow": null,
            "grid_area": null,
            "grid_auto_columns": null,
            "grid_auto_flow": null,
            "grid_auto_rows": null,
            "grid_column": null,
            "grid_gap": null,
            "grid_row": null,
            "grid_template_areas": null,
            "grid_template_columns": null,
            "grid_template_rows": null,
            "height": null,
            "justify_content": null,
            "justify_items": null,
            "left": null,
            "margin": null,
            "max_height": null,
            "max_width": null,
            "min_height": null,
            "min_width": null,
            "object_fit": null,
            "object_position": null,
            "order": null,
            "overflow": null,
            "overflow_x": null,
            "overflow_y": null,
            "padding": null,
            "right": null,
            "top": null,
            "visibility": null,
            "width": null
          }
        },
        "9f072ca2352e473bb3aebea7bf9dd7dd": {
          "model_module": "@jupyter-widgets/base",
          "model_name": "LayoutModel",
          "model_module_version": "1.2.0",
          "state": {
            "_model_module": "@jupyter-widgets/base",
            "_model_module_version": "1.2.0",
            "_model_name": "LayoutModel",
            "_view_count": null,
            "_view_module": "@jupyter-widgets/base",
            "_view_module_version": "1.2.0",
            "_view_name": "LayoutView",
            "align_content": null,
            "align_items": null,
            "align_self": null,
            "border": null,
            "bottom": null,
            "display": null,
            "flex": null,
            "flex_flow": null,
            "grid_area": null,
            "grid_auto_columns": null,
            "grid_auto_flow": null,
            "grid_auto_rows": null,
            "grid_column": null,
            "grid_gap": null,
            "grid_row": null,
            "grid_template_areas": null,
            "grid_template_columns": null,
            "grid_template_rows": null,
            "height": null,
            "justify_content": null,
            "justify_items": null,
            "left": null,
            "margin": null,
            "max_height": null,
            "max_width": null,
            "min_height": null,
            "min_width": null,
            "object_fit": null,
            "object_position": null,
            "order": null,
            "overflow": null,
            "overflow_x": null,
            "overflow_y": null,
            "padding": null,
            "right": null,
            "top": null,
            "visibility": null,
            "width": null
          }
        },
        "d80a167151b9450189c281b13400da3b": {
          "model_module": "@jupyter-widgets/controls",
          "model_name": "DescriptionStyleModel",
          "model_module_version": "1.5.0",
          "state": {
            "_model_module": "@jupyter-widgets/controls",
            "_model_module_version": "1.5.0",
            "_model_name": "DescriptionStyleModel",
            "_view_count": null,
            "_view_module": "@jupyter-widgets/base",
            "_view_module_version": "1.2.0",
            "_view_name": "StyleView",
            "description_width": ""
          }
        },
        "28c0225755934677b37e7ae7eceb5e0e": {
          "model_module": "@jupyter-widgets/base",
          "model_name": "LayoutModel",
          "model_module_version": "1.2.0",
          "state": {
            "_model_module": "@jupyter-widgets/base",
            "_model_module_version": "1.2.0",
            "_model_name": "LayoutModel",
            "_view_count": null,
            "_view_module": "@jupyter-widgets/base",
            "_view_module_version": "1.2.0",
            "_view_name": "LayoutView",
            "align_content": null,
            "align_items": null,
            "align_self": null,
            "border": null,
            "bottom": null,
            "display": null,
            "flex": null,
            "flex_flow": null,
            "grid_area": null,
            "grid_auto_columns": null,
            "grid_auto_flow": null,
            "grid_auto_rows": null,
            "grid_column": null,
            "grid_gap": null,
            "grid_row": null,
            "grid_template_areas": null,
            "grid_template_columns": null,
            "grid_template_rows": null,
            "height": null,
            "justify_content": null,
            "justify_items": null,
            "left": null,
            "margin": null,
            "max_height": null,
            "max_width": null,
            "min_height": null,
            "min_width": null,
            "object_fit": null,
            "object_position": null,
            "order": null,
            "overflow": null,
            "overflow_x": null,
            "overflow_y": null,
            "padding": null,
            "right": null,
            "top": null,
            "visibility": null,
            "width": null
          }
        },
        "dda2473a06e94e65904add24f1f04404": {
          "model_module": "@jupyter-widgets/controls",
          "model_name": "ProgressStyleModel",
          "model_module_version": "1.5.0",
          "state": {
            "_model_module": "@jupyter-widgets/controls",
            "_model_module_version": "1.5.0",
            "_model_name": "ProgressStyleModel",
            "_view_count": null,
            "_view_module": "@jupyter-widgets/base",
            "_view_module_version": "1.2.0",
            "_view_name": "StyleView",
            "bar_color": null,
            "description_width": ""
          }
        },
        "39de7cc9a12844d59193ae9eb610616e": {
          "model_module": "@jupyter-widgets/base",
          "model_name": "LayoutModel",
          "model_module_version": "1.2.0",
          "state": {
            "_model_module": "@jupyter-widgets/base",
            "_model_module_version": "1.2.0",
            "_model_name": "LayoutModel",
            "_view_count": null,
            "_view_module": "@jupyter-widgets/base",
            "_view_module_version": "1.2.0",
            "_view_name": "LayoutView",
            "align_content": null,
            "align_items": null,
            "align_self": null,
            "border": null,
            "bottom": null,
            "display": null,
            "flex": null,
            "flex_flow": null,
            "grid_area": null,
            "grid_auto_columns": null,
            "grid_auto_flow": null,
            "grid_auto_rows": null,
            "grid_column": null,
            "grid_gap": null,
            "grid_row": null,
            "grid_template_areas": null,
            "grid_template_columns": null,
            "grid_template_rows": null,
            "height": null,
            "justify_content": null,
            "justify_items": null,
            "left": null,
            "margin": null,
            "max_height": null,
            "max_width": null,
            "min_height": null,
            "min_width": null,
            "object_fit": null,
            "object_position": null,
            "order": null,
            "overflow": null,
            "overflow_x": null,
            "overflow_y": null,
            "padding": null,
            "right": null,
            "top": null,
            "visibility": null,
            "width": null
          }
        },
        "2ce370e595e94e6085232de0106fd3b7": {
          "model_module": "@jupyter-widgets/controls",
          "model_name": "DescriptionStyleModel",
          "model_module_version": "1.5.0",
          "state": {
            "_model_module": "@jupyter-widgets/controls",
            "_model_module_version": "1.5.0",
            "_model_name": "DescriptionStyleModel",
            "_view_count": null,
            "_view_module": "@jupyter-widgets/base",
            "_view_module_version": "1.2.0",
            "_view_name": "StyleView",
            "description_width": ""
          }
        },
        "86fd6b6e5c7c47228cfa54dac16074e8": {
          "model_module": "@jupyter-widgets/controls",
          "model_name": "HBoxModel",
          "model_module_version": "1.5.0",
          "state": {
            "_dom_classes": [],
            "_model_module": "@jupyter-widgets/controls",
            "_model_module_version": "1.5.0",
            "_model_name": "HBoxModel",
            "_view_count": null,
            "_view_module": "@jupyter-widgets/controls",
            "_view_module_version": "1.5.0",
            "_view_name": "HBoxView",
            "box_style": "",
            "children": [
              "IPY_MODEL_4eb4166221624f74aec87eaa91c6efa0",
              "IPY_MODEL_47eb12af6f984fa998c4609ac12087f2",
              "IPY_MODEL_78aacb77c2844171afb97418a921d652"
            ],
            "layout": "IPY_MODEL_a73e83fb3a474dbeb787969c6990ca18"
          }
        },
        "4eb4166221624f74aec87eaa91c6efa0": {
          "model_module": "@jupyter-widgets/controls",
          "model_name": "HTMLModel",
          "model_module_version": "1.5.0",
          "state": {
            "_dom_classes": [],
            "_model_module": "@jupyter-widgets/controls",
            "_model_module_version": "1.5.0",
            "_model_name": "HTMLModel",
            "_view_count": null,
            "_view_module": "@jupyter-widgets/controls",
            "_view_module_version": "1.5.0",
            "_view_name": "HTMLView",
            "description": "",
            "description_tooltip": null,
            "layout": "IPY_MODEL_c5358ec496ec4465ac3ce376b6e4142f",
            "placeholder": "​",
            "style": "IPY_MODEL_710f4a50afac4daa91cda7d9dcdb4bfb",
            "value": "100%"
          }
        },
        "47eb12af6f984fa998c4609ac12087f2": {
          "model_module": "@jupyter-widgets/controls",
          "model_name": "FloatProgressModel",
          "model_module_version": "1.5.0",
          "state": {
            "_dom_classes": [],
            "_model_module": "@jupyter-widgets/controls",
            "_model_module_version": "1.5.0",
            "_model_name": "FloatProgressModel",
            "_view_count": null,
            "_view_module": "@jupyter-widgets/controls",
            "_view_module_version": "1.5.0",
            "_view_name": "ProgressView",
            "bar_style": "success",
            "description": "",
            "description_tooltip": null,
            "layout": "IPY_MODEL_2bc4442073d14be89179d1a903b898cf",
            "max": 2620,
            "min": 0,
            "orientation": "horizontal",
            "style": "IPY_MODEL_db4309f244674ef7af17d1f50e71b7cb",
            "value": 2620
          }
        },
        "78aacb77c2844171afb97418a921d652": {
          "model_module": "@jupyter-widgets/controls",
          "model_name": "HTMLModel",
          "model_module_version": "1.5.0",
          "state": {
            "_dom_classes": [],
            "_model_module": "@jupyter-widgets/controls",
            "_model_module_version": "1.5.0",
            "_model_name": "HTMLModel",
            "_view_count": null,
            "_view_module": "@jupyter-widgets/controls",
            "_view_module_version": "1.5.0",
            "_view_name": "HTMLView",
            "description": "",
            "description_tooltip": null,
            "layout": "IPY_MODEL_7ddf6214a3e349e9941990b46e444313",
            "placeholder": "​",
            "style": "IPY_MODEL_fa00f597560d4a20a3ff9103c0f46518",
            "value": " 2620/2620 [00:01&lt;00:00, 2158.37it/s]"
          }
        },
        "a73e83fb3a474dbeb787969c6990ca18": {
          "model_module": "@jupyter-widgets/base",
          "model_name": "LayoutModel",
          "model_module_version": "1.2.0",
          "state": {
            "_model_module": "@jupyter-widgets/base",
            "_model_module_version": "1.2.0",
            "_model_name": "LayoutModel",
            "_view_count": null,
            "_view_module": "@jupyter-widgets/base",
            "_view_module_version": "1.2.0",
            "_view_name": "LayoutView",
            "align_content": null,
            "align_items": null,
            "align_self": null,
            "border": null,
            "bottom": null,
            "display": null,
            "flex": null,
            "flex_flow": null,
            "grid_area": null,
            "grid_auto_columns": null,
            "grid_auto_flow": null,
            "grid_auto_rows": null,
            "grid_column": null,
            "grid_gap": null,
            "grid_row": null,
            "grid_template_areas": null,
            "grid_template_columns": null,
            "grid_template_rows": null,
            "height": null,
            "justify_content": null,
            "justify_items": null,
            "left": null,
            "margin": null,
            "max_height": null,
            "max_width": null,
            "min_height": null,
            "min_width": null,
            "object_fit": null,
            "object_position": null,
            "order": null,
            "overflow": null,
            "overflow_x": null,
            "overflow_y": null,
            "padding": null,
            "right": null,
            "top": null,
            "visibility": null,
            "width": null
          }
        },
        "c5358ec496ec4465ac3ce376b6e4142f": {
          "model_module": "@jupyter-widgets/base",
          "model_name": "LayoutModel",
          "model_module_version": "1.2.0",
          "state": {
            "_model_module": "@jupyter-widgets/base",
            "_model_module_version": "1.2.0",
            "_model_name": "LayoutModel",
            "_view_count": null,
            "_view_module": "@jupyter-widgets/base",
            "_view_module_version": "1.2.0",
            "_view_name": "LayoutView",
            "align_content": null,
            "align_items": null,
            "align_self": null,
            "border": null,
            "bottom": null,
            "display": null,
            "flex": null,
            "flex_flow": null,
            "grid_area": null,
            "grid_auto_columns": null,
            "grid_auto_flow": null,
            "grid_auto_rows": null,
            "grid_column": null,
            "grid_gap": null,
            "grid_row": null,
            "grid_template_areas": null,
            "grid_template_columns": null,
            "grid_template_rows": null,
            "height": null,
            "justify_content": null,
            "justify_items": null,
            "left": null,
            "margin": null,
            "max_height": null,
            "max_width": null,
            "min_height": null,
            "min_width": null,
            "object_fit": null,
            "object_position": null,
            "order": null,
            "overflow": null,
            "overflow_x": null,
            "overflow_y": null,
            "padding": null,
            "right": null,
            "top": null,
            "visibility": null,
            "width": null
          }
        },
        "710f4a50afac4daa91cda7d9dcdb4bfb": {
          "model_module": "@jupyter-widgets/controls",
          "model_name": "DescriptionStyleModel",
          "model_module_version": "1.5.0",
          "state": {
            "_model_module": "@jupyter-widgets/controls",
            "_model_module_version": "1.5.0",
            "_model_name": "DescriptionStyleModel",
            "_view_count": null,
            "_view_module": "@jupyter-widgets/base",
            "_view_module_version": "1.2.0",
            "_view_name": "StyleView",
            "description_width": ""
          }
        },
        "2bc4442073d14be89179d1a903b898cf": {
          "model_module": "@jupyter-widgets/base",
          "model_name": "LayoutModel",
          "model_module_version": "1.2.0",
          "state": {
            "_model_module": "@jupyter-widgets/base",
            "_model_module_version": "1.2.0",
            "_model_name": "LayoutModel",
            "_view_count": null,
            "_view_module": "@jupyter-widgets/base",
            "_view_module_version": "1.2.0",
            "_view_name": "LayoutView",
            "align_content": null,
            "align_items": null,
            "align_self": null,
            "border": null,
            "bottom": null,
            "display": null,
            "flex": null,
            "flex_flow": null,
            "grid_area": null,
            "grid_auto_columns": null,
            "grid_auto_flow": null,
            "grid_auto_rows": null,
            "grid_column": null,
            "grid_gap": null,
            "grid_row": null,
            "grid_template_areas": null,
            "grid_template_columns": null,
            "grid_template_rows": null,
            "height": null,
            "justify_content": null,
            "justify_items": null,
            "left": null,
            "margin": null,
            "max_height": null,
            "max_width": null,
            "min_height": null,
            "min_width": null,
            "object_fit": null,
            "object_position": null,
            "order": null,
            "overflow": null,
            "overflow_x": null,
            "overflow_y": null,
            "padding": null,
            "right": null,
            "top": null,
            "visibility": null,
            "width": null
          }
        },
        "db4309f244674ef7af17d1f50e71b7cb": {
          "model_module": "@jupyter-widgets/controls",
          "model_name": "ProgressStyleModel",
          "model_module_version": "1.5.0",
          "state": {
            "_model_module": "@jupyter-widgets/controls",
            "_model_module_version": "1.5.0",
            "_model_name": "ProgressStyleModel",
            "_view_count": null,
            "_view_module": "@jupyter-widgets/base",
            "_view_module_version": "1.2.0",
            "_view_name": "StyleView",
            "bar_color": null,
            "description_width": ""
          }
        },
        "7ddf6214a3e349e9941990b46e444313": {
          "model_module": "@jupyter-widgets/base",
          "model_name": "LayoutModel",
          "model_module_version": "1.2.0",
          "state": {
            "_model_module": "@jupyter-widgets/base",
            "_model_module_version": "1.2.0",
            "_model_name": "LayoutModel",
            "_view_count": null,
            "_view_module": "@jupyter-widgets/base",
            "_view_module_version": "1.2.0",
            "_view_name": "LayoutView",
            "align_content": null,
            "align_items": null,
            "align_self": null,
            "border": null,
            "bottom": null,
            "display": null,
            "flex": null,
            "flex_flow": null,
            "grid_area": null,
            "grid_auto_columns": null,
            "grid_auto_flow": null,
            "grid_auto_rows": null,
            "grid_column": null,
            "grid_gap": null,
            "grid_row": null,
            "grid_template_areas": null,
            "grid_template_columns": null,
            "grid_template_rows": null,
            "height": null,
            "justify_content": null,
            "justify_items": null,
            "left": null,
            "margin": null,
            "max_height": null,
            "max_width": null,
            "min_height": null,
            "min_width": null,
            "object_fit": null,
            "object_position": null,
            "order": null,
            "overflow": null,
            "overflow_x": null,
            "overflow_y": null,
            "padding": null,
            "right": null,
            "top": null,
            "visibility": null,
            "width": null
          }
        },
        "fa00f597560d4a20a3ff9103c0f46518": {
          "model_module": "@jupyter-widgets/controls",
          "model_name": "DescriptionStyleModel",
          "model_module_version": "1.5.0",
          "state": {
            "_model_module": "@jupyter-widgets/controls",
            "_model_module_version": "1.5.0",
            "_model_name": "DescriptionStyleModel",
            "_view_count": null,
            "_view_module": "@jupyter-widgets/base",
            "_view_module_version": "1.2.0",
            "_view_name": "StyleView",
            "description_width": ""
          }
        },
        "af55f0930b3b4ec9a6917bcdb93bf7d0": {
          "model_module": "@jupyter-widgets/controls",
          "model_name": "HBoxModel",
          "model_module_version": "1.5.0",
          "state": {
            "_dom_classes": [],
            "_model_module": "@jupyter-widgets/controls",
            "_model_module_version": "1.5.0",
            "_model_name": "HBoxModel",
            "_view_count": null,
            "_view_module": "@jupyter-widgets/controls",
            "_view_module_version": "1.5.0",
            "_view_name": "HBoxView",
            "box_style": "",
            "children": [
              "IPY_MODEL_e9a6fd46151543e9b36b438a05243925",
              "IPY_MODEL_29cf7bb6e4914cbab249b36e9777a987",
              "IPY_MODEL_c336a65f0c7e45f8be343be30afd1bb9"
            ],
            "layout": "IPY_MODEL_0913324293cd422d86e457fa5ca5e0ed"
          }
        },
        "e9a6fd46151543e9b36b438a05243925": {
          "model_module": "@jupyter-widgets/controls",
          "model_name": "HTMLModel",
          "model_module_version": "1.5.0",
          "state": {
            "_dom_classes": [],
            "_model_module": "@jupyter-widgets/controls",
            "_model_module_version": "1.5.0",
            "_model_name": "HTMLModel",
            "_view_count": null,
            "_view_module": "@jupyter-widgets/controls",
            "_view_module_version": "1.5.0",
            "_view_name": "HTMLView",
            "description": "",
            "description_tooltip": null,
            "layout": "IPY_MODEL_54048715866747798c9390c6a9187ea3",
            "placeholder": "​",
            "style": "IPY_MODEL_586bde86be6a4123a98a5d847099dfdd",
            "value": "Train: 100%"
          }
        },
        "29cf7bb6e4914cbab249b36e9777a987": {
          "model_module": "@jupyter-widgets/controls",
          "model_name": "FloatProgressModel",
          "model_module_version": "1.5.0",
          "state": {
            "_dom_classes": [],
            "_model_module": "@jupyter-widgets/controls",
            "_model_module_version": "1.5.0",
            "_model_name": "FloatProgressModel",
            "_view_count": null,
            "_view_module": "@jupyter-widgets/controls",
            "_view_module_version": "1.5.0",
            "_view_name": "ProgressView",
            "bar_style": "",
            "description": "",
            "description_tooltip": null,
            "layout": "IPY_MODEL_a183edad206140a696786a34ae05c860",
            "max": 35246,
            "min": 0,
            "orientation": "horizontal",
            "style": "IPY_MODEL_5ea6969210e4468d9fe2566487466b0f",
            "value": 35246
          }
        },
        "c336a65f0c7e45f8be343be30afd1bb9": {
          "model_module": "@jupyter-widgets/controls",
          "model_name": "HTMLModel",
          "model_module_version": "1.5.0",
          "state": {
            "_dom_classes": [],
            "_model_module": "@jupyter-widgets/controls",
            "_model_module_version": "1.5.0",
            "_model_name": "HTMLModel",
            "_view_count": null,
            "_view_module": "@jupyter-widgets/controls",
            "_view_module_version": "1.5.0",
            "_view_name": "HTMLView",
            "description": "",
            "description_tooltip": null,
            "layout": "IPY_MODEL_2f72e97abc9044c8a42dc06474031462",
            "placeholder": "​",
            "style": "IPY_MODEL_2992066de5e44c3a96b089dc5c99f31b",
            "value": " 35245/35246 [12:43&lt;00:00,  4.07it/s, acc=84.3312%, loss=0.4587]"
          }
        },
        "0913324293cd422d86e457fa5ca5e0ed": {
          "model_module": "@jupyter-widgets/base",
          "model_name": "LayoutModel",
          "model_module_version": "1.2.0",
          "state": {
            "_model_module": "@jupyter-widgets/base",
            "_model_module_version": "1.2.0",
            "_model_name": "LayoutModel",
            "_view_count": null,
            "_view_module": "@jupyter-widgets/base",
            "_view_module_version": "1.2.0",
            "_view_name": "LayoutView",
            "align_content": null,
            "align_items": null,
            "align_self": null,
            "border": null,
            "bottom": null,
            "display": "inline-flex",
            "flex": null,
            "flex_flow": "row wrap",
            "grid_area": null,
            "grid_auto_columns": null,
            "grid_auto_flow": null,
            "grid_auto_rows": null,
            "grid_column": null,
            "grid_gap": null,
            "grid_row": null,
            "grid_template_areas": null,
            "grid_template_columns": null,
            "grid_template_rows": null,
            "height": null,
            "justify_content": null,
            "justify_items": null,
            "left": null,
            "margin": null,
            "max_height": null,
            "max_width": null,
            "min_height": null,
            "min_width": null,
            "object_fit": null,
            "object_position": null,
            "order": null,
            "overflow": null,
            "overflow_x": null,
            "overflow_y": null,
            "padding": null,
            "right": null,
            "top": null,
            "visibility": "hidden",
            "width": "100%"
          }
        },
        "54048715866747798c9390c6a9187ea3": {
          "model_module": "@jupyter-widgets/base",
          "model_name": "LayoutModel",
          "model_module_version": "1.2.0",
          "state": {
            "_model_module": "@jupyter-widgets/base",
            "_model_module_version": "1.2.0",
            "_model_name": "LayoutModel",
            "_view_count": null,
            "_view_module": "@jupyter-widgets/base",
            "_view_module_version": "1.2.0",
            "_view_name": "LayoutView",
            "align_content": null,
            "align_items": null,
            "align_self": null,
            "border": null,
            "bottom": null,
            "display": null,
            "flex": null,
            "flex_flow": null,
            "grid_area": null,
            "grid_auto_columns": null,
            "grid_auto_flow": null,
            "grid_auto_rows": null,
            "grid_column": null,
            "grid_gap": null,
            "grid_row": null,
            "grid_template_areas": null,
            "grid_template_columns": null,
            "grid_template_rows": null,
            "height": null,
            "justify_content": null,
            "justify_items": null,
            "left": null,
            "margin": null,
            "max_height": null,
            "max_width": null,
            "min_height": null,
            "min_width": null,
            "object_fit": null,
            "object_position": null,
            "order": null,
            "overflow": null,
            "overflow_x": null,
            "overflow_y": null,
            "padding": null,
            "right": null,
            "top": null,
            "visibility": null,
            "width": null
          }
        },
        "586bde86be6a4123a98a5d847099dfdd": {
          "model_module": "@jupyter-widgets/controls",
          "model_name": "DescriptionStyleModel",
          "model_module_version": "1.5.0",
          "state": {
            "_model_module": "@jupyter-widgets/controls",
            "_model_module_version": "1.5.0",
            "_model_name": "DescriptionStyleModel",
            "_view_count": null,
            "_view_module": "@jupyter-widgets/base",
            "_view_module_version": "1.2.0",
            "_view_name": "StyleView",
            "description_width": ""
          }
        },
        "a183edad206140a696786a34ae05c860": {
          "model_module": "@jupyter-widgets/base",
          "model_name": "LayoutModel",
          "model_module_version": "1.2.0",
          "state": {
            "_model_module": "@jupyter-widgets/base",
            "_model_module_version": "1.2.0",
            "_model_name": "LayoutModel",
            "_view_count": null,
            "_view_module": "@jupyter-widgets/base",
            "_view_module_version": "1.2.0",
            "_view_name": "LayoutView",
            "align_content": null,
            "align_items": null,
            "align_self": null,
            "border": null,
            "bottom": null,
            "display": null,
            "flex": "2",
            "flex_flow": null,
            "grid_area": null,
            "grid_auto_columns": null,
            "grid_auto_flow": null,
            "grid_auto_rows": null,
            "grid_column": null,
            "grid_gap": null,
            "grid_row": null,
            "grid_template_areas": null,
            "grid_template_columns": null,
            "grid_template_rows": null,
            "height": null,
            "justify_content": null,
            "justify_items": null,
            "left": null,
            "margin": null,
            "max_height": null,
            "max_width": null,
            "min_height": null,
            "min_width": null,
            "object_fit": null,
            "object_position": null,
            "order": null,
            "overflow": null,
            "overflow_x": null,
            "overflow_y": null,
            "padding": null,
            "right": null,
            "top": null,
            "visibility": null,
            "width": null
          }
        },
        "5ea6969210e4468d9fe2566487466b0f": {
          "model_module": "@jupyter-widgets/controls",
          "model_name": "ProgressStyleModel",
          "model_module_version": "1.5.0",
          "state": {
            "_model_module": "@jupyter-widgets/controls",
            "_model_module_version": "1.5.0",
            "_model_name": "ProgressStyleModel",
            "_view_count": null,
            "_view_module": "@jupyter-widgets/base",
            "_view_module_version": "1.2.0",
            "_view_name": "StyleView",
            "bar_color": null,
            "description_width": ""
          }
        },
        "2f72e97abc9044c8a42dc06474031462": {
          "model_module": "@jupyter-widgets/base",
          "model_name": "LayoutModel",
          "model_module_version": "1.2.0",
          "state": {
            "_model_module": "@jupyter-widgets/base",
            "_model_module_version": "1.2.0",
            "_model_name": "LayoutModel",
            "_view_count": null,
            "_view_module": "@jupyter-widgets/base",
            "_view_module_version": "1.2.0",
            "_view_name": "LayoutView",
            "align_content": null,
            "align_items": null,
            "align_self": null,
            "border": null,
            "bottom": null,
            "display": null,
            "flex": null,
            "flex_flow": null,
            "grid_area": null,
            "grid_auto_columns": null,
            "grid_auto_flow": null,
            "grid_auto_rows": null,
            "grid_column": null,
            "grid_gap": null,
            "grid_row": null,
            "grid_template_areas": null,
            "grid_template_columns": null,
            "grid_template_rows": null,
            "height": null,
            "justify_content": null,
            "justify_items": null,
            "left": null,
            "margin": null,
            "max_height": null,
            "max_width": null,
            "min_height": null,
            "min_width": null,
            "object_fit": null,
            "object_position": null,
            "order": null,
            "overflow": null,
            "overflow_x": null,
            "overflow_y": null,
            "padding": null,
            "right": null,
            "top": null,
            "visibility": null,
            "width": null
          }
        },
        "2992066de5e44c3a96b089dc5c99f31b": {
          "model_module": "@jupyter-widgets/controls",
          "model_name": "DescriptionStyleModel",
          "model_module_version": "1.5.0",
          "state": {
            "_model_module": "@jupyter-widgets/controls",
            "_model_module_version": "1.5.0",
            "_model_name": "DescriptionStyleModel",
            "_view_count": null,
            "_view_module": "@jupyter-widgets/base",
            "_view_module_version": "1.2.0",
            "_view_name": "StyleView",
            "description_width": ""
          }
        },
        "6e0b1dcb5f5b4dfd9e8acf1def0aaa36": {
          "model_module": "@jupyter-widgets/controls",
          "model_name": "HBoxModel",
          "model_module_version": "1.5.0",
          "state": {
            "_dom_classes": [],
            "_model_module": "@jupyter-widgets/controls",
            "_model_module_version": "1.5.0",
            "_model_name": "HBoxModel",
            "_view_count": null,
            "_view_module": "@jupyter-widgets/controls",
            "_view_module_version": "1.5.0",
            "_view_name": "HBoxView",
            "box_style": "",
            "children": [
              "IPY_MODEL_6604f5d81c204a6d853fbdead0e0a230",
              "IPY_MODEL_0788ef674b4b436a87fefe3b82c5e8e3",
              "IPY_MODEL_71d94d2d27b440398e741b4f326e27b3"
            ],
            "layout": "IPY_MODEL_cc3a70886347457d8dadefb5784c3406"
          }
        },
        "6604f5d81c204a6d853fbdead0e0a230": {
          "model_module": "@jupyter-widgets/controls",
          "model_name": "HTMLModel",
          "model_module_version": "1.5.0",
          "state": {
            "_dom_classes": [],
            "_model_module": "@jupyter-widgets/controls",
            "_model_module_version": "1.5.0",
            "_model_name": "HTMLModel",
            "_view_count": null,
            "_view_module": "@jupyter-widgets/controls",
            "_view_module_version": "1.5.0",
            "_view_name": "HTMLView",
            "description": "",
            "description_tooltip": null,
            "layout": "IPY_MODEL_e667d9ba76184cb6ae69a404b0802212",
            "placeholder": "​",
            "style": "IPY_MODEL_6e036124a15049e08553f95ef277dd87",
            "value": "Val: 100%"
          }
        },
        "0788ef674b4b436a87fefe3b82c5e8e3": {
          "model_module": "@jupyter-widgets/controls",
          "model_name": "FloatProgressModel",
          "model_module_version": "1.5.0",
          "state": {
            "_dom_classes": [],
            "_model_module": "@jupyter-widgets/controls",
            "_model_module_version": "1.5.0",
            "_model_name": "FloatProgressModel",
            "_view_count": null,
            "_view_module": "@jupyter-widgets/controls",
            "_view_module_version": "1.5.0",
            "_view_name": "ProgressView",
            "bar_style": "",
            "description": "",
            "description_tooltip": null,
            "layout": "IPY_MODEL_1097fd5fafec440281a091e09bb2707b",
            "max": 1884,
            "min": 0,
            "orientation": "horizontal",
            "style": "IPY_MODEL_6c8dcaa20f33459d9f41f88d95d68690",
            "value": 1884
          }
        },
        "71d94d2d27b440398e741b4f326e27b3": {
          "model_module": "@jupyter-widgets/controls",
          "model_name": "HTMLModel",
          "model_module_version": "1.5.0",
          "state": {
            "_dom_classes": [],
            "_model_module": "@jupyter-widgets/controls",
            "_model_module_version": "1.5.0",
            "_model_name": "HTMLModel",
            "_view_count": null,
            "_view_module": "@jupyter-widgets/controls",
            "_view_module_version": "1.5.0",
            "_view_name": "HTMLView",
            "description": "",
            "description_tooltip": null,
            "layout": "IPY_MODEL_d0e7c71d237943b397f130c8c2824873",
            "placeholder": "​",
            "style": "IPY_MODEL_2e699226a0604fed89cca6a81c982d3e",
            "value": " 1883/1884 [00:38&lt;00:00, 43.25it/s, acc=85.9863%, loss=0.4117]"
          }
        },
        "cc3a70886347457d8dadefb5784c3406": {
          "model_module": "@jupyter-widgets/base",
          "model_name": "LayoutModel",
          "model_module_version": "1.2.0",
          "state": {
            "_model_module": "@jupyter-widgets/base",
            "_model_module_version": "1.2.0",
            "_model_name": "LayoutModel",
            "_view_count": null,
            "_view_module": "@jupyter-widgets/base",
            "_view_module_version": "1.2.0",
            "_view_name": "LayoutView",
            "align_content": null,
            "align_items": null,
            "align_self": null,
            "border": null,
            "bottom": null,
            "display": "inline-flex",
            "flex": null,
            "flex_flow": "row wrap",
            "grid_area": null,
            "grid_auto_columns": null,
            "grid_auto_flow": null,
            "grid_auto_rows": null,
            "grid_column": null,
            "grid_gap": null,
            "grid_row": null,
            "grid_template_areas": null,
            "grid_template_columns": null,
            "grid_template_rows": null,
            "height": null,
            "justify_content": null,
            "justify_items": null,
            "left": null,
            "margin": null,
            "max_height": null,
            "max_width": null,
            "min_height": null,
            "min_width": null,
            "object_fit": null,
            "object_position": null,
            "order": null,
            "overflow": null,
            "overflow_x": null,
            "overflow_y": null,
            "padding": null,
            "right": null,
            "top": null,
            "visibility": "hidden",
            "width": "100%"
          }
        },
        "e667d9ba76184cb6ae69a404b0802212": {
          "model_module": "@jupyter-widgets/base",
          "model_name": "LayoutModel",
          "model_module_version": "1.2.0",
          "state": {
            "_model_module": "@jupyter-widgets/base",
            "_model_module_version": "1.2.0",
            "_model_name": "LayoutModel",
            "_view_count": null,
            "_view_module": "@jupyter-widgets/base",
            "_view_module_version": "1.2.0",
            "_view_name": "LayoutView",
            "align_content": null,
            "align_items": null,
            "align_self": null,
            "border": null,
            "bottom": null,
            "display": null,
            "flex": null,
            "flex_flow": null,
            "grid_area": null,
            "grid_auto_columns": null,
            "grid_auto_flow": null,
            "grid_auto_rows": null,
            "grid_column": null,
            "grid_gap": null,
            "grid_row": null,
            "grid_template_areas": null,
            "grid_template_columns": null,
            "grid_template_rows": null,
            "height": null,
            "justify_content": null,
            "justify_items": null,
            "left": null,
            "margin": null,
            "max_height": null,
            "max_width": null,
            "min_height": null,
            "min_width": null,
            "object_fit": null,
            "object_position": null,
            "order": null,
            "overflow": null,
            "overflow_x": null,
            "overflow_y": null,
            "padding": null,
            "right": null,
            "top": null,
            "visibility": null,
            "width": null
          }
        },
        "6e036124a15049e08553f95ef277dd87": {
          "model_module": "@jupyter-widgets/controls",
          "model_name": "DescriptionStyleModel",
          "model_module_version": "1.5.0",
          "state": {
            "_model_module": "@jupyter-widgets/controls",
            "_model_module_version": "1.5.0",
            "_model_name": "DescriptionStyleModel",
            "_view_count": null,
            "_view_module": "@jupyter-widgets/base",
            "_view_module_version": "1.2.0",
            "_view_name": "StyleView",
            "description_width": ""
          }
        },
        "1097fd5fafec440281a091e09bb2707b": {
          "model_module": "@jupyter-widgets/base",
          "model_name": "LayoutModel",
          "model_module_version": "1.2.0",
          "state": {
            "_model_module": "@jupyter-widgets/base",
            "_model_module_version": "1.2.0",
            "_model_name": "LayoutModel",
            "_view_count": null,
            "_view_module": "@jupyter-widgets/base",
            "_view_module_version": "1.2.0",
            "_view_name": "LayoutView",
            "align_content": null,
            "align_items": null,
            "align_self": null,
            "border": null,
            "bottom": null,
            "display": null,
            "flex": "2",
            "flex_flow": null,
            "grid_area": null,
            "grid_auto_columns": null,
            "grid_auto_flow": null,
            "grid_auto_rows": null,
            "grid_column": null,
            "grid_gap": null,
            "grid_row": null,
            "grid_template_areas": null,
            "grid_template_columns": null,
            "grid_template_rows": null,
            "height": null,
            "justify_content": null,
            "justify_items": null,
            "left": null,
            "margin": null,
            "max_height": null,
            "max_width": null,
            "min_height": null,
            "min_width": null,
            "object_fit": null,
            "object_position": null,
            "order": null,
            "overflow": null,
            "overflow_x": null,
            "overflow_y": null,
            "padding": null,
            "right": null,
            "top": null,
            "visibility": null,
            "width": null
          }
        },
        "6c8dcaa20f33459d9f41f88d95d68690": {
          "model_module": "@jupyter-widgets/controls",
          "model_name": "ProgressStyleModel",
          "model_module_version": "1.5.0",
          "state": {
            "_model_module": "@jupyter-widgets/controls",
            "_model_module_version": "1.5.0",
            "_model_name": "ProgressStyleModel",
            "_view_count": null,
            "_view_module": "@jupyter-widgets/base",
            "_view_module_version": "1.2.0",
            "_view_name": "StyleView",
            "bar_color": null,
            "description_width": ""
          }
        },
        "d0e7c71d237943b397f130c8c2824873": {
          "model_module": "@jupyter-widgets/base",
          "model_name": "LayoutModel",
          "model_module_version": "1.2.0",
          "state": {
            "_model_module": "@jupyter-widgets/base",
            "_model_module_version": "1.2.0",
            "_model_name": "LayoutModel",
            "_view_count": null,
            "_view_module": "@jupyter-widgets/base",
            "_view_module_version": "1.2.0",
            "_view_name": "LayoutView",
            "align_content": null,
            "align_items": null,
            "align_self": null,
            "border": null,
            "bottom": null,
            "display": null,
            "flex": null,
            "flex_flow": null,
            "grid_area": null,
            "grid_auto_columns": null,
            "grid_auto_flow": null,
            "grid_auto_rows": null,
            "grid_column": null,
            "grid_gap": null,
            "grid_row": null,
            "grid_template_areas": null,
            "grid_template_columns": null,
            "grid_template_rows": null,
            "height": null,
            "justify_content": null,
            "justify_items": null,
            "left": null,
            "margin": null,
            "max_height": null,
            "max_width": null,
            "min_height": null,
            "min_width": null,
            "object_fit": null,
            "object_position": null,
            "order": null,
            "overflow": null,
            "overflow_x": null,
            "overflow_y": null,
            "padding": null,
            "right": null,
            "top": null,
            "visibility": null,
            "width": null
          }
        },
        "2e699226a0604fed89cca6a81c982d3e": {
          "model_module": "@jupyter-widgets/controls",
          "model_name": "DescriptionStyleModel",
          "model_module_version": "1.5.0",
          "state": {
            "_model_module": "@jupyter-widgets/controls",
            "_model_module_version": "1.5.0",
            "_model_name": "DescriptionStyleModel",
            "_view_count": null,
            "_view_module": "@jupyter-widgets/base",
            "_view_module_version": "1.2.0",
            "_view_name": "StyleView",
            "description_width": ""
          }
        },
        "d1d79346146546f0a6b4877bddd003dd": {
          "model_module": "@jupyter-widgets/controls",
          "model_name": "HBoxModel",
          "model_module_version": "1.5.0",
          "state": {
            "_dom_classes": [],
            "_model_module": "@jupyter-widgets/controls",
            "_model_module_version": "1.5.0",
            "_model_name": "HBoxModel",
            "_view_count": null,
            "_view_module": "@jupyter-widgets/controls",
            "_view_module_version": "1.5.0",
            "_view_name": "HBoxView",
            "box_style": "",
            "children": [
              "IPY_MODEL_bcac4a7ed6bb402aa935896b8e576e7f",
              "IPY_MODEL_05e90460505146f2a19fcda58a704178",
              "IPY_MODEL_901b4be0155c42f1bde79a3f78e27328"
            ],
            "layout": "IPY_MODEL_13cb1cb440ea4807a41e314f68909339"
          }
        },
        "bcac4a7ed6bb402aa935896b8e576e7f": {
          "model_module": "@jupyter-widgets/controls",
          "model_name": "HTMLModel",
          "model_module_version": "1.5.0",
          "state": {
            "_dom_classes": [],
            "_model_module": "@jupyter-widgets/controls",
            "_model_module_version": "1.5.0",
            "_model_name": "HTMLModel",
            "_view_count": null,
            "_view_module": "@jupyter-widgets/controls",
            "_view_module_version": "1.5.0",
            "_view_name": "HTMLView",
            "description": "",
            "description_tooltip": null,
            "layout": "IPY_MODEL_76ff3c2f80654161bccf7882b6655623",
            "placeholder": "​",
            "style": "IPY_MODEL_ee7e519c98b84386bd09850bcc96a9f1",
            "value": "100%"
          }
        },
        "05e90460505146f2a19fcda58a704178": {
          "model_module": "@jupyter-widgets/controls",
          "model_name": "FloatProgressModel",
          "model_module_version": "1.5.0",
          "state": {
            "_dom_classes": [],
            "_model_module": "@jupyter-widgets/controls",
            "_model_module_version": "1.5.0",
            "_model_name": "FloatProgressModel",
            "_view_count": null,
            "_view_module": "@jupyter-widgets/controls",
            "_view_module_version": "1.5.0",
            "_view_name": "ProgressView",
            "bar_style": "success",
            "description": "",
            "description_tooltip": null,
            "layout": "IPY_MODEL_4b34e9878061432b98d7318da21532c3",
            "max": 1889,
            "min": 0,
            "orientation": "horizontal",
            "style": "IPY_MODEL_7eec6752ccde4613b330353604f015f3",
            "value": 1889
          }
        },
        "901b4be0155c42f1bde79a3f78e27328": {
          "model_module": "@jupyter-widgets/controls",
          "model_name": "HTMLModel",
          "model_module_version": "1.5.0",
          "state": {
            "_dom_classes": [],
            "_model_module": "@jupyter-widgets/controls",
            "_model_module_version": "1.5.0",
            "_model_name": "HTMLModel",
            "_view_count": null,
            "_view_module": "@jupyter-widgets/controls",
            "_view_module_version": "1.5.0",
            "_view_name": "HTMLView",
            "description": "",
            "description_tooltip": null,
            "layout": "IPY_MODEL_b53821fe52f44ee28229686287c391b7",
            "placeholder": "​",
            "style": "IPY_MODEL_baca865d3dac42a78d1e2dd4b7b51a0a",
            "value": " 1889/1889 [00:41&lt;00:00, 41.73it/s]"
          }
        },
        "13cb1cb440ea4807a41e314f68909339": {
          "model_module": "@jupyter-widgets/base",
          "model_name": "LayoutModel",
          "model_module_version": "1.2.0",
          "state": {
            "_model_module": "@jupyter-widgets/base",
            "_model_module_version": "1.2.0",
            "_model_name": "LayoutModel",
            "_view_count": null,
            "_view_module": "@jupyter-widgets/base",
            "_view_module_version": "1.2.0",
            "_view_name": "LayoutView",
            "align_content": null,
            "align_items": null,
            "align_self": null,
            "border": null,
            "bottom": null,
            "display": null,
            "flex": null,
            "flex_flow": null,
            "grid_area": null,
            "grid_auto_columns": null,
            "grid_auto_flow": null,
            "grid_auto_rows": null,
            "grid_column": null,
            "grid_gap": null,
            "grid_row": null,
            "grid_template_areas": null,
            "grid_template_columns": null,
            "grid_template_rows": null,
            "height": null,
            "justify_content": null,
            "justify_items": null,
            "left": null,
            "margin": null,
            "max_height": null,
            "max_width": null,
            "min_height": null,
            "min_width": null,
            "object_fit": null,
            "object_position": null,
            "order": null,
            "overflow": null,
            "overflow_x": null,
            "overflow_y": null,
            "padding": null,
            "right": null,
            "top": null,
            "visibility": null,
            "width": null
          }
        },
        "76ff3c2f80654161bccf7882b6655623": {
          "model_module": "@jupyter-widgets/base",
          "model_name": "LayoutModel",
          "model_module_version": "1.2.0",
          "state": {
            "_model_module": "@jupyter-widgets/base",
            "_model_module_version": "1.2.0",
            "_model_name": "LayoutModel",
            "_view_count": null,
            "_view_module": "@jupyter-widgets/base",
            "_view_module_version": "1.2.0",
            "_view_name": "LayoutView",
            "align_content": null,
            "align_items": null,
            "align_self": null,
            "border": null,
            "bottom": null,
            "display": null,
            "flex": null,
            "flex_flow": null,
            "grid_area": null,
            "grid_auto_columns": null,
            "grid_auto_flow": null,
            "grid_auto_rows": null,
            "grid_column": null,
            "grid_gap": null,
            "grid_row": null,
            "grid_template_areas": null,
            "grid_template_columns": null,
            "grid_template_rows": null,
            "height": null,
            "justify_content": null,
            "justify_items": null,
            "left": null,
            "margin": null,
            "max_height": null,
            "max_width": null,
            "min_height": null,
            "min_width": null,
            "object_fit": null,
            "object_position": null,
            "order": null,
            "overflow": null,
            "overflow_x": null,
            "overflow_y": null,
            "padding": null,
            "right": null,
            "top": null,
            "visibility": null,
            "width": null
          }
        },
        "ee7e519c98b84386bd09850bcc96a9f1": {
          "model_module": "@jupyter-widgets/controls",
          "model_name": "DescriptionStyleModel",
          "model_module_version": "1.5.0",
          "state": {
            "_model_module": "@jupyter-widgets/controls",
            "_model_module_version": "1.5.0",
            "_model_name": "DescriptionStyleModel",
            "_view_count": null,
            "_view_module": "@jupyter-widgets/base",
            "_view_module_version": "1.2.0",
            "_view_name": "StyleView",
            "description_width": ""
          }
        },
        "4b34e9878061432b98d7318da21532c3": {
          "model_module": "@jupyter-widgets/base",
          "model_name": "LayoutModel",
          "model_module_version": "1.2.0",
          "state": {
            "_model_module": "@jupyter-widgets/base",
            "_model_module_version": "1.2.0",
            "_model_name": "LayoutModel",
            "_view_count": null,
            "_view_module": "@jupyter-widgets/base",
            "_view_module_version": "1.2.0",
            "_view_name": "LayoutView",
            "align_content": null,
            "align_items": null,
            "align_self": null,
            "border": null,
            "bottom": null,
            "display": null,
            "flex": null,
            "flex_flow": null,
            "grid_area": null,
            "grid_auto_columns": null,
            "grid_auto_flow": null,
            "grid_auto_rows": null,
            "grid_column": null,
            "grid_gap": null,
            "grid_row": null,
            "grid_template_areas": null,
            "grid_template_columns": null,
            "grid_template_rows": null,
            "height": null,
            "justify_content": null,
            "justify_items": null,
            "left": null,
            "margin": null,
            "max_height": null,
            "max_width": null,
            "min_height": null,
            "min_width": null,
            "object_fit": null,
            "object_position": null,
            "order": null,
            "overflow": null,
            "overflow_x": null,
            "overflow_y": null,
            "padding": null,
            "right": null,
            "top": null,
            "visibility": null,
            "width": null
          }
        },
        "7eec6752ccde4613b330353604f015f3": {
          "model_module": "@jupyter-widgets/controls",
          "model_name": "ProgressStyleModel",
          "model_module_version": "1.5.0",
          "state": {
            "_model_module": "@jupyter-widgets/controls",
            "_model_module_version": "1.5.0",
            "_model_name": "ProgressStyleModel",
            "_view_count": null,
            "_view_module": "@jupyter-widgets/base",
            "_view_module_version": "1.2.0",
            "_view_name": "StyleView",
            "bar_color": null,
            "description_width": ""
          }
        },
        "b53821fe52f44ee28229686287c391b7": {
          "model_module": "@jupyter-widgets/base",
          "model_name": "LayoutModel",
          "model_module_version": "1.2.0",
          "state": {
            "_model_module": "@jupyter-widgets/base",
            "_model_module_version": "1.2.0",
            "_model_name": "LayoutModel",
            "_view_count": null,
            "_view_module": "@jupyter-widgets/base",
            "_view_module_version": "1.2.0",
            "_view_name": "LayoutView",
            "align_content": null,
            "align_items": null,
            "align_self": null,
            "border": null,
            "bottom": null,
            "display": null,
            "flex": null,
            "flex_flow": null,
            "grid_area": null,
            "grid_auto_columns": null,
            "grid_auto_flow": null,
            "grid_auto_rows": null,
            "grid_column": null,
            "grid_gap": null,
            "grid_row": null,
            "grid_template_areas": null,
            "grid_template_columns": null,
            "grid_template_rows": null,
            "height": null,
            "justify_content": null,
            "justify_items": null,
            "left": null,
            "margin": null,
            "max_height": null,
            "max_width": null,
            "min_height": null,
            "min_width": null,
            "object_fit": null,
            "object_position": null,
            "order": null,
            "overflow": null,
            "overflow_x": null,
            "overflow_y": null,
            "padding": null,
            "right": null,
            "top": null,
            "visibility": null,
            "width": null
          }
        },
        "baca865d3dac42a78d1e2dd4b7b51a0a": {
          "model_module": "@jupyter-widgets/controls",
          "model_name": "DescriptionStyleModel",
          "model_module_version": "1.5.0",
          "state": {
            "_model_module": "@jupyter-widgets/controls",
            "_model_module_version": "1.5.0",
            "_model_name": "DescriptionStyleModel",
            "_view_count": null,
            "_view_module": "@jupyter-widgets/base",
            "_view_module_version": "1.2.0",
            "_view_name": "StyleView",
            "description_width": ""
          }
        }
      }
    }
  },
  "nbformat_minor": 0,
  "nbformat": 4,
  "cells": [
    {
      "cell_type": "markdown",
      "source": [
        "# HW1: Frame-Level Speech Recognition"
      ],
      "metadata": {
        "id": "F9ERgBpbcMmB"
      }
    },
    {
      "cell_type": "markdown",
      "source": [
        "In this homework, you will be working with MFCC data consisting of 28 features at each time step/frame. Your model should be able to recognize the phoneme occured in that frame."
      ],
      "metadata": {
        "id": "CLkH6GMGcWcE"
      }
    },
    {
      "cell_type": "markdown",
      "source": [
        "# Dataset Description\n",
        "\n",
        "Let's start by understanding the dataset for this homework.\n",
        "\n",
        "Our data consists of 3 folders (train-clean-100, dev-clean and test-clean). The training and validation datasets (train-clean-100 and dev-clean) each contain 2 subfolders (mfcc and transcript). The 'mfcc' subfolder contains mel spectrograms (explained below and in writeup), while the 'transcript' subfolder contains their corresponding transcripts. However, the test dataset (test-clean) contains only the 'mfcc' subfolder without the corresponding transcripts, which will later be predicted by your model.\n",
        "\n",
        "\n",
        "## 1. Audio Representation.\n",
        "The 'mfcc' subfolders contain many `*.npy` files of mel spectrograms. .npy files are used to store numpy arrays.\n",
        "\n",
        "Each .npy file represents a short speech recording. For example, one recording might be someone saying, \"This is the age of AI.\" This recording is converted into a mel spectrogram, which is used to represent all forms of audio signals in a computer. Such representation is important in signal and speech processing tasks, especially in machine learning.\n",
        "\n",
        "Compared to raw audio, mel spectrograms are better for speech processing because they capture both the timing and the frequencies of the sound. At each moment in time, they show which frequencies are present in the sound. This makes it easier for computers to understand and process speech.\n",
        "\n",
        "When converting raw audio to spectrograms, you do not process the whole audio at once. Instead, you process small frames at a time as you stride over the entire audio length. This means that if you have an audio file of 100 seconds, you may decide to process 10 seconds at a time, striding by one second. In this case, the frame size is 10 seconds. The frame size and the number of timesteps (seconds, milliseconds, etc.) depend on individual choice.\n",
        "\n",
        "When processing each frame, you extract a number of features that represent that frame's audio. For instance, in the audio recording of \"This is the age of AI,\" the frame corresponding to \"AI\" will have features that represent how \"AI\" is pronounced, the vocal tract, and the effect of the environment in which it was recorded. For clarity, when we say features, you should think of columns. One feature/column may have information about the gender of the person who made the speech. Another may have information about the age of the person. Another may have information about the environment where the speech was recorded. Basically, the main properties that make up a speech are encoded in those features, which combine in some way to make the audio.\n",
        "\n",
        "Since we want to recognize the word as it was pronounced despite the environment and other variabilities, we usually normalize to eliminate or minimize such effects.\n",
        "\n",
        "Our spectrograms contain 28 features. Essentially, the number of features may be different. They may depend on how the raw audio data was converted into mel spectrograms.\n",
        "\n",
        "## 2. Transcripts\n",
        "Remember where we mentioned frames? Well, in our dataset, audio frames have corresponding target transcripts. For instance the abbreviation \"AI\", in our example above, if present in the recordings, will have transcripts: /eɪ aɪ/. This means that you will have two frames one for  /eɪ/ and another for /aɪ/.\n",
        "\n",
        "This way of representing pronounciation in text form is called ***phonetic transcription***, \"the conversion of spoken words the way they are pronounced instead of how they are written\"[[link]](https://www.google.com/url?sa=t&source=web&rct=j&opi=89978449&url=https://krisp.ai/blog/phonetic-transcription/%23:~:text%3Dphonetic%2520transcriptions%2520done.-,What%2520are%2520Phonetic%2520Transcriptions%253F,verbatim%2520to%2520intelligent%2520verbatim%2520transcriptions.&ved=2ahUKEwiV6LO6hrSHAxUKSvEDHcvwAAsQFnoECB0QAw&usg=AOvVaw0VqoWceOzdVwe-AvdyyWqJ). In this case letters 'A' and 'I' are pronounce /eɪ/ and /aɪ/, respectively. Both letters in different words may be pronounced differently.\n",
        "\n",
        "The produced representation of the speech is referred to as phonemes. Various .npy files that contain recordings of the sentence **\"This is the age of AI.\"** would map to **\"/ðɪs ɪz ðə eɪdʒ əv eɪ aɪ/.\"** The phonemes representation for **Chelsea sucks** would be **/ˈtʃɛl.si sʌks/**\n",
        "\n",
        "Going inside the .npy files. Each .npy file contains vectors which have 28 features/dimensions/columns. The number of vectors in the file corresponds to the number of frames in the recording. And each single frame has a corresponding phoneme in the transcript.\n",
        "\n",
        "For instance the .npy file for \"This is the age of AI\" --> \"/ðɪs ɪz ðə eɪdʒ əv eɪ aɪ/\" might have 13 frames (13 vectors):\n",
        "\n",
        "- /ðɪs/ has 3 phonemes: /ð/, /ɪ/, /s/  \n",
        "- /ɪz/ has 2 phonemes: /ɪ/, /z/\n",
        "- /ðə/ has 2 phonemes: /ð/, /ə/\n",
        "- /eɪdʒ/ has 2 phonemes: /eɪ/, /dʒ/\n",
        "- /əv/ has 2 phonemes: /ə/, /v/\n",
        "- /eɪ aɪ/ has 2 phonemes: /eɪ/, /aɪ/\n",
        "\n",
        "**Chelsea sucks** --> **/ˈtʃɛl.si sʌks/** might have 8 frames (8 vectors):\n",
        "\n",
        "- /ˈtʃɛl.si/ has 4 phonemes: /tʃ/, /ɛ/, /l/, /si/\n",
        "- /sʌks/ has 4 phonemes: /s/, /ʌ/, /k/, /s/\n",
        "\n",
        "Note that recordings of different sentences may have different number of frames.\n",
        "\n",
        "The model you will produce must take a vector of a particular frame and predict the frame's transcript as accurately as possible.\n",
        "\n",
        "Therefore, the **__getitem__** method of your dataset class must return a 28 dimensional vector of a particular frame and its corresponding phoneme transcript.\n",
        "\n",
        "This means that, while you are doing your data preprocessing in the **__init__** method, you need stack all vectors from all recordings on top of each other. You must do this for all transcripts as well and remember to ensure the correspondance between frames and their phoneme mapping is maintained.\n",
        "\n",
        "For our dataset of two samples above, if you stack the recordings together, you get:\n",
        "\n",
        "\n",
        "| Frame | Feature 1 | Feature 2 | ... | Feature 28 | Phoneme |\n",
        "|-------|-----------|-----------|-----|------------|---------|\n",
        "| 0     | v0_1      | v0_2      | ... | v0_28      | /ð/     |\n",
        "| 1     | v1_1      | v1_2      | ... | v1_28      | /ɪ/     |\n",
        "| 2     | v2_1      | v2_2      | ... | v2_28      | /s/     |\n",
        "| 3     | v3_1      | v3_2      | ... | v3_28      | /ɪ/     |\n",
        "| 4     | v4_1      | v4_2      | ... | v4_28      | /z/     |\n",
        "| 5     | v5_1      | v5_2      | ... | v5_28      | /ð/     |\n",
        "| 6     | v6_1      | v6_2      | ... | v6_28      | /ə/     |\n",
        "| 7     | v7_1      | v7_2      | ... | v7_28      | /eɪ/    |\n",
        "| 8     | v8_1      | v8_2      | ... | v8_28      | /dʒ/    |\n",
        "| 9     | v9_1      | v9_2      | ... | v9_28      | /ə/     |\n",
        "| 10    | v10_1     | v10_2     | ... | v10_28     | /v/     |\n",
        "| 11    | v11_1     | v11_2     | ... | v11_28     | /eɪ/    |\n",
        "| 12    | v12_1     | v12_2     | ... | v12_28     | /aɪ/    |\n",
        "| 13    | v13_1     | v13_2     | ... | v13_28     | /tʃ/    |\n",
        "| 14    | v14_1     | v14_2     | ... | v14_28     | /ɛ/     |\n",
        "| 15    | v15_1     | v15_2     | ... | v15_28     | /l/     |\n",
        "| 16    | v16_1     | v16_2     | ... | v16_28     | /si/     |\n",
        "| 17    | v17_1     | v17_2     | ... | v17_28     | /s/     |\n",
        "| 18    | v18_1     | v18_2     | ... | v18_28     | /ʌ/     |\n",
        "| 19    | v19_1     | v19_2     | ... | v19_28     | /k/     |\n",
        "| 20    | v20_1     | v20_2     | ... | v20_28     | /s/     |\n",
        "\n",
        "\n",
        "So, if you pass index 5 to **__getitem__**, you will get back vector v5 (v5_1, v5_2, ..., v5_28) and transcript **/ð/**. Ideally, if you have a well trained model, it should take v5 and return **/ð/**. And the call to **__len__** would return 21 which the training loop would use to go through the whole dataset.\n",
        "\n",
        "## Context\n",
        "\n",
        "In the dataset we are using, a few millisecs were used to convert raw audio to mel spectrogram and extract the 28 features.\n",
        "Since each vector represents only a few millisecs of speech, it may not be sufficient to feed only a single vector into the network at a time. Instead, it may be useful to provide the network with some “context” of size K around each vector in terms of additional vectors from the speech input.\n",
        "\n",
        "Concretely, a context of size 3 would mean that we provide an input of size (7, 28) to the network - the size 7 can be explained as: the vector to predict the label for, 3 vectors preceding this vector, and 3 vectors following it. It is worth thinking about how you would handle providing context before one of the first K frames of an utterance or after one of the last K frames.\n",
        "\n",
        "There are several ways to implement this, but you could try the simplest one:\n",
        "- Concatenating all utterances and padding with K 0-valued vectors before and after the resulting matrix\n",
        "\n",
        "If you use a context of 3 on the above table, you get the following table:\n",
        "\n",
        "| Frame | Feature 1 | Feature 2 | ... | Feature 28 | Phoneme | Context Vectors |\n",
        "|-------|-----------|-----------|-----|------------|---------|----------------|\n",
        "| 0     | v0_1      | v0_2      | ... | v0_28      | /ð/     | [0, 0, 0, ..., 0] (Padding), [0, 0, 0, ..., 0] (Padding), [0, 0, 0, ..., 0] (Padding), v0, v1, v2, v3 |\n",
        "| 1     | v1_1      | v1_2      | ... | v1_28      | /ɪ/     | [0, 0, 0, ..., 0] (Padding), [0, 0, 0, ..., 0] (Padding), v0, v1, v2, v3, v4 |\n",
        "| 2     | v2_1      | v2_2      | ... | v2_28      | /s/     | [0, 0, 0, ..., 0] (Padding), v0, v1, v2, v3, v4, v5 |\n",
        "| 3     | v3_1      | v3_2      | ... | v3_28      | /ɪ/     | v0, v1, v2, v3, v4, v5, v6 |\n",
        "| 4     | v4_1      | v4_2      | ... | v4_28      | /z/     | v1, v2, v3, v4, v5, v6, v7 |\n",
        "| 5     | v5_1      | v5_2      | ... | v5_28      | /ð/     | v2, v3, v4, v5, v6, v7, v8 |\n",
        "| 6     | v6_1      | v6_2      | ... | v6_28      | /ə/     | v3, v4, v5, v6, v7, v8, v9 |\n",
        "| 7     | v7_1      | v7_2      | ... | v7_28      | /eɪ/    | v4, v5, v6, v7, v8, v9, v10 |\n",
        "| 8     | v8_1      | v8_2      | ... | v8_28      | /dʒ/    | v5, v6, v7, v8, v9, v10, v11 |\n",
        "| 9     | v9_1      | v9_2      | ... | v9_28      | /ə/     | v6, v7, v8, v9, v10, v11, v12 |\n",
        "| 10    | v10_1     | v10_2     | ... | v10_28     | /v/     | v7, v8, v9, v10, v11, v12, v13 |\n",
        "| 11    | v11_1     | v11_2     | ... | v11_28     | /eɪ/    | v8, v9, v10, v11, v12, v13, v14 |\n",
        "| 12    | v12_1     | v12_2     | ... | v12_28     | /aɪ/    | v9, v10, v11, v12, v13, v14, v15 |\n",
        "| 13    | v13_1     | v13_2     | ... | v13_28     | /tʃ/    | v10, v11, v12, v13, v14, v15, v16 |\n",
        "| 14    | v14_1     | v14_2     | ... | v14_28     | /ɛ/     | v11, v12, v13, v14, v15, v16, v17 |\n",
        "| 15    | v15_1     | v15_2     | ... | v15_28     | /l/     | v12, v13, v14, v15, v16, v17, v18 |\n",
        "| 16    | v16_1     | v16_2     | ... | v16_28     | /s/     | v13, v14, v15, v16, v17, v18, v19 |\n",
        "| 17    | v17_1     | v17_2     | ... | v17_28     | /i/     | v14, v15, v16, v17, v18, v19, v20 |\n",
        "| 18    | v18_1     | v18_2     | ... | v18_28     | /s/     | v15, v16, v17, v18, v19, v20, v21 |\n",
        "| 19    | v19_1     | v19_2     | ... | v19_28     | /ʌ/     | v16, v17, v18, v19, v20, v21, [0, 0, 0, ..., 0] (Padding) |\n",
        "| 20    | v20_1     | v20_2     | ... | v20_28     | /k/     | v17, v18, v19, v20, v21, [0, 0, 0, ..., 0] (Padding), [0, 0, 0, ..., 0] (Padding) |\n",
        "| 21    | v21_1     | v21_2     | ... | v21_28     | /s/     | v18, v19, v20, v21, [0, 0, 0, ..., 0] (Padding), [0, 0, 0, ..., 0] (Padding), [0, 0, 0, ..., 0] (Padding) |\n",
        "\n",
        "\n",
        "Now, if you want to predict the output of vector v5, you won't just pass vector v5 alone. You will concatenate 3 vectors before it and 3 vectors after, which makes it 7 vectors ([v2, v3, v4, v5, v6, v7, v8 ]) . This needs to be reflected in your **__getitem__** method. Meaning it should return an array of shape (7, 28), in this example.\n",
        "\n",
        "Hence your model is going to be taking a tensor (array) of shape (7, 28) in this example."
      ],
      "metadata": {
        "id": "P2vp3N7qr_5V"
      }
    },
    {
      "cell_type": "markdown",
      "source": [
        "# Libraries"
      ],
      "metadata": {
        "id": "z4vZbDmJvMp1"
      }
    },
    {
      "cell_type": "code",
      "source": [
        "!pip install torchsummaryX==1.1.0 wandb --quiet\n"
      ],
      "metadata": {
        "execution": {
          "iopub.status.busy": "2025-01-18T15:45:13.293935Z",
          "iopub.execute_input": "2025-01-18T15:45:13.294259Z",
          "iopub.status.idle": "2025-01-18T15:45:16.589874Z",
          "shell.execute_reply.started": "2025-01-18T15:45:13.294226Z",
          "shell.execute_reply": "2025-01-18T15:45:16.588762Z"
        },
        "id": "rwYu9sSUnSho",
        "trusted": true
      },
      "outputs": [],
      "execution_count": null
    },
    {
      "cell_type": "code",
      "source": [
        "!pip install torchaudio --quiet"
      ],
      "metadata": {
        "trusted": true,
        "execution": {
          "iopub.status.busy": "2025-01-18T15:45:16.591296Z",
          "iopub.execute_input": "2025-01-18T15:45:16.591640Z",
          "iopub.status.idle": "2025-01-18T15:45:19.851037Z",
          "shell.execute_reply.started": "2025-01-18T15:45:16.591607Z",
          "shell.execute_reply": "2025-01-18T15:45:19.850127Z"
        },
        "id": "ijYNIOkpYrXf"
      },
      "outputs": [],
      "execution_count": null
    },
    {
      "cell_type": "code",
      "source": [
        "import torch\n",
        "import torch.nn as nn\n",
        "import numpy as np\n",
        "from torchsummaryX import summary\n",
        "import sklearn\n",
        "import gc\n",
        "import zipfile\n",
        "import bisect\n",
        "import pandas as pd\n",
        "from tqdm.auto import tqdm\n",
        "import os\n",
        "import datetime\n",
        "import wandb\n",
        "import yaml\n",
        "import torchaudio.transforms as tat\n",
        "import torchaudio\n",
        "device = 'cuda' if torch.cuda.is_available() else 'cpu'\n",
        "print(\"Device: \", device)"
      ],
      "metadata": {
        "execution": {
          "iopub.status.busy": "2025-01-18T15:45:27.197597Z",
          "iopub.execute_input": "2025-01-18T15:45:27.197960Z",
          "iopub.status.idle": "2025-01-18T15:45:37.485903Z",
          "shell.execute_reply.started": "2025-01-18T15:45:27.197928Z",
          "shell.execute_reply": "2025-01-18T15:45:37.485079Z"
        },
        "id": "qI4qfx7tiBZt",
        "trusted": true,
        "colab": {
          "base_uri": "https://localhost:8080/"
        },
        "outputId": "3d5f6bea-8a0b-4537-b518-6a25c8365379"
      },
      "outputs": [
        {
          "output_type": "stream",
          "name": "stdout",
          "text": [
            "Device:  cuda\n"
          ]
        }
      ],
      "execution_count": null
    },
    {
      "cell_type": "markdown",
      "source": [
        "# Mount Google Drive"
      ],
      "metadata": {
        "id": "eqsFLqa6rCuc"
      }
    },
    {
      "cell_type": "code",
      "source": [
        "''' If you are using colab, you can import google drive to save model checkpoints in a folder\n",
        "    If you want to use it, uncomment the two lines below\n",
        "'''\n",
        "# from google.colab import drive\n",
        "# drive.mount('/content/drive')"
      ],
      "metadata": {
        "id": "Z23Nag1jq_yA",
        "colab": {
          "base_uri": "https://localhost:8080/",
          "height": 36
        },
        "outputId": "0460e0f7-daa7-48f0-c6e8-fd9d1804fcf9"
      },
      "outputs": [
        {
          "output_type": "execute_result",
          "data": {
            "text/plain": [
              "' If you are using colab, you can import google drive to save model checkpoints in a folder\\n    If you want to use it, uncomment the two lines below\\n'"
            ],
            "application/vnd.google.colaboratory.intrinsic+json": {
              "type": "string"
            }
          },
          "metadata": {},
          "execution_count": 5
        }
      ],
      "execution_count": null
    },
    {
      "cell_type": "code",
      "source": [
        "### PHONEME LIST\n",
        "PHONEMES = [\n",
        "            '[SIL]',   'AA',    'AE',    'AH',    'AO',    'AW',    'AY',\n",
        "            'B',     'CH',    'D',     'DH',    'EH',    'ER',    'EY',\n",
        "            'F',     'G',     'HH',    'IH',    'IY',    'JH',    'K',\n",
        "            'L',     'M',     'N',     'NG',    'OW',    'OY',    'P',\n",
        "            'R',     'S',     'SH',    'T',     'TH',    'UH',    'UW',\n",
        "            'V',     'W',     'Y',     'Z',     'ZH',    '[SOS]', '[EOS]']"
      ],
      "metadata": {
        "execution": {
          "iopub.status.busy": "2024-12-31T15:17:20.484276Z",
          "iopub.execute_input": "2024-12-31T15:17:20.484621Z",
          "iopub.status.idle": "2024-12-31T15:17:20.489243Z",
          "shell.execute_reply.started": "2024-12-31T15:17:20.484588Z",
          "shell.execute_reply": "2024-12-31T15:17:20.488394Z"
        },
        "id": "N-9qE20hmCgQ",
        "trusted": true
      },
      "outputs": [],
      "execution_count": null
    },
    {
      "cell_type": "markdown",
      "source": [
        "# Kaggle"
      ],
      "metadata": {
        "id": "ZIi0Big7vPa9"
      }
    },
    {
      "cell_type": "markdown",
      "source": [
        "This section contains code that helps you install kaggle's API, creating kaggle.json with you username and API key details. Make sure to input those in the given code to ensure you can download data from the competition successfully."
      ],
      "metadata": {
        "id": "BBCbeRhixGM7"
      }
    },
    {
      "cell_type": "code",
      "source": [
        "!pip install --upgrade kaggle==1.6.17 --force-reinstall --no-deps\n",
        "!mkdir /root/.kaggle\n",
        "\n",
        "with open(\"/root/.kaggle/kaggle.json\", \"w+\") as f:\n",
        "    # Put your kaggle username & key here\n",
        "    f.write('{\"username\":\"belleconnaught\",\"key\":\"fdd356e542dc338ffe0ff5f4a5c85fd9\"}')\n",
        "\n",
        "!chmod 600 /root/.kaggle/kaggle.json"
      ],
      "metadata": {
        "execution": {
          "iopub.status.busy": "2024-12-24T01:51:36.557557Z",
          "iopub.execute_input": "2024-12-24T01:51:36.557771Z",
          "iopub.status.idle": "2024-12-24T01:51:39.853407Z",
          "shell.execute_reply.started": "2024-12-24T01:51:36.557752Z",
          "shell.execute_reply": "2024-12-24T01:51:39.852241Z"
        },
        "id": "TPBUd7Cnl-Rx",
        "trusted": true,
        "colab": {
          "base_uri": "https://localhost:8080/"
        },
        "outputId": "8d8841b2-dd41-44ce-e854-8123b0bc7d4a"
      },
      "outputs": [
        {
          "output_type": "stream",
          "name": "stdout",
          "text": [
            "Collecting kaggle==1.6.17\n",
            "  Downloading kaggle-1.6.17.tar.gz (82 kB)\n",
            "\u001b[?25l     \u001b[90m━━━━━━━━━━━━━━━━━━━━━━━━━━━━━━━━━━━━━━━━\u001b[0m \u001b[32m0.0/82.7 kB\u001b[0m \u001b[31m?\u001b[0m eta \u001b[36m-:--:--\u001b[0m\r\u001b[2K     \u001b[90m━━━━━━━━━━━━━━━━━━━━━━━━━━━━━━━━━━━━━━━━\u001b[0m \u001b[32m82.7/82.7 kB\u001b[0m \u001b[31m5.5 MB/s\u001b[0m eta \u001b[36m0:00:00\u001b[0m\n",
            "\u001b[?25h  Preparing metadata (setup.py) ... \u001b[?25l\u001b[?25hdone\n",
            "Building wheels for collected packages: kaggle\n",
            "  Building wheel for kaggle (setup.py) ... \u001b[?25l\u001b[?25hdone\n",
            "  Created wheel for kaggle: filename=kaggle-1.6.17-py3-none-any.whl size=105786 sha256=cc76e65316eca9c9c30162620ae33fb96266bc453896f866031b6a525447f256\n",
            "  Stored in directory: /root/.cache/pip/wheels/9f/af/22/bf406f913dc7506a485e60dce8143741abd0a92a19337d83a3\n",
            "Successfully built kaggle\n",
            "Installing collected packages: kaggle\n",
            "  Attempting uninstall: kaggle\n",
            "    Found existing installation: kaggle 1.6.17\n",
            "    Uninstalling kaggle-1.6.17:\n",
            "      Successfully uninstalled kaggle-1.6.17\n",
            "Successfully installed kaggle-1.6.17\n"
          ]
        }
      ],
      "execution_count": null
    },
    {
      "cell_type": "code",
      "source": [
        "# commands to download data from kaggle\n",
        "!kaggle competitions download --force -c 11785-spring-25-hw-1-p-2\n",
        "\n",
        "# Unzip downloaded data\n",
        "!unzip -qo /content/11785-spring-25-hw-1-p-2.zip -d '/content'"
      ],
      "metadata": {
        "execution": {
          "iopub.status.busy": "2024-12-24T01:51:39.854463Z",
          "iopub.execute_input": "2024-12-24T01:51:39.854726Z",
          "iopub.status.idle": "2024-12-24T01:52:39.968030Z",
          "shell.execute_reply.started": "2024-12-24T01:51:39.854703Z",
          "shell.execute_reply": "2024-12-24T01:52:39.967153Z"
        },
        "id": "if2Somqfbje1",
        "trusted": true,
        "colab": {
          "base_uri": "https://localhost:8080/"
        },
        "outputId": "16cd9a0f-e416-48c4-820f-670a19b015e4"
      },
      "outputs": [
        {
          "output_type": "stream",
          "name": "stdout",
          "text": [
            "Downloading 11785-spring-25-hw-1-p-2.zip to /content\n",
            "100% 3.97G/3.98G [00:28<00:00, 117MB/s]\n",
            "100% 3.98G/3.98G [00:28<00:00, 150MB/s]\n"
          ]
        }
      ],
      "execution_count": null
    },
    {
      "cell_type": "markdown",
      "source": [
        "# Parameters Configuration"
      ],
      "metadata": {
        "id": "qNacQ8bpt9nw"
      }
    },
    {
      "cell_type": "markdown",
      "source": [
        "Storing your parameters and hyperparameters in a single configuration dictionary makes it easier to keep track of them during each experiment. It can also be used with weights and biases to log your parameters for each experiment and keep track of them across multiple experiments."
      ],
      "metadata": {
        "id": "WE7tsinAuLNy"
      }
    },
    {
      "cell_type": "code",
      "source": [
        "config = {\n",
        "    'Name': 'Belle Connaught', # Write your name here\n",
        "    'subset': 1.0, # Subset of dataset to use (1.0 == 100% of data)\n",
        "    'context': 30,\n",
        "    'archetype': 'cylinder', # Default Values: pyramid, diamond, inverse-pyramid,cylinder\n",
        "    'activations': 'SiLU',\n",
        "    'learning_rate': 0.001,\n",
        "    'dropout': 0.3,\n",
        "    'optimizers': 'AdamW',\n",
        "    'scheduler': 'OneCycleLR',\n",
        "    'epochs': 35,\n",
        "    'batch_size': 1024,\n",
        "    'weight_decay': 0.0001,\n",
        "    'weight_initialization': 'kaiming_uniform', # e.g kaiming_normal, kaiming_uniform, uniform, xavier_normal or xavier_uniform\n",
        "    'augmentations': 'Both', # Options: [\"FreqMask\", \"TimeMask\", \"Both\", null]\n",
        "    'freq_mask_param': 4,\n",
        "    'time_mask_param': 8\n",
        " }"
      ],
      "metadata": {
        "id": "S5gMTwnSnp8K"
      },
      "outputs": [],
      "execution_count": null
    },
    {
      "cell_type": "code",
      "source": [
        "config"
      ],
      "metadata": {
        "id": "vzeqgWS9pumb",
        "colab": {
          "base_uri": "https://localhost:8080/"
        },
        "outputId": "e3602295-5d90-478b-d5d5-e2299c7bca37"
      },
      "outputs": [
        {
          "output_type": "execute_result",
          "data": {
            "text/plain": [
              "{'Name': 'Belle Connaught',\n",
              " 'subset': 1.0,\n",
              " 'context': 30,\n",
              " 'archetype': 'cylinder',\n",
              " 'activations': 'SiLU',\n",
              " 'learning_rate': 0.001,\n",
              " 'dropout': 0.3,\n",
              " 'optimizers': 'AdamW',\n",
              " 'scheduler': 'OneCycleLR',\n",
              " 'epochs': 35,\n",
              " 'batch_size': 1024,\n",
              " 'weight_decay': 0.0001,\n",
              " 'weight_initialization': 'kaiming_uniform',\n",
              " 'augmentations': 'Both',\n",
              " 'freq_mask_param': 4,\n",
              " 'time_mask_param': 8}"
            ]
          },
          "metadata": {},
          "execution_count": 108
        }
      ],
      "execution_count": null
    },
    {
      "cell_type": "markdown",
      "source": [
        "# Dataset Class"
      ],
      "metadata": {
        "id": "FYeyFHQ1yRi4"
      }
    },
    {
      "cell_type": "markdown",
      "source": [
        "This section covers the dataset/dataloader class for speech data. You will have to spend time writing code to create this class successfully. We have given you a lot of comments guiding you on what code to write at each stage, from top to bottom of the class. Please try and take your time figuring this out, as it will immensely help in creating dataset/dataloader classes for future homeworks.\n",
        "\n",
        "Before running the following cells, please take some time to analyse the structure of data. Try loading a single MFCC and its transcipt, print out the shapes and print out the values. Do the transcripts look like phonemes?"
      ],
      "metadata": {
        "id": "2_7QgMbBdgPp"
      }
    },
    {
      "cell_type": "code",
      "source": [
        "# Dataset class to load train and validation data\n",
        "\n",
        "class AudioDataset(torch.utils.data.Dataset):\n",
        "\n",
        "    def __init__(self, root, phonemes = PHONEMES, context=0, partition= \"train-clean-100\"): # Feel free to add more arguments\n",
        "        self.context    = context\n",
        "        self.phonemes   = phonemes\n",
        "        self.subset = config['subset']\n",
        "\n",
        "        # TODO: Initialize augmentations. Read the Pytorch torchaudio documentations on timemasking and frequencymasking\n",
        "        self.freq_masking = torchaudio.transforms.FrequencyMasking(freq_mask_param=config['freq_mask_param'])\n",
        "        self.time_masking = torchaudio.transforms.TimeMasking(time_mask_param=config['time_mask_param'])\n",
        "\n",
        "\n",
        "        # TODO: MFCC directory - use partition to acces train/dev directories from kaggle data using root\n",
        "        self.mfcc_dir       = os.path.join(root, partition, \"mfcc\")\n",
        "        # TODO: Transcripts directory - use partition to acces train/dev directories from kaggle data using root\n",
        "        self.transcript_dir = os.path.join(root, partition, \"transcript\")\n",
        "\n",
        "        # TODO: List files in sefl.mfcc_dir using os.listdir in SORTED order\n",
        "        mfcc_names          = sorted(os.listdir(self.mfcc_dir))\n",
        "        # TODO: List files in self.transcript_dir using os.listdir in SORTED order\n",
        "        transcript_names    = sorted(os.listdir(self.transcript_dir))\n",
        "\n",
        "        # Compute size of data subset\n",
        "        subset_size = int(self.subset * len(mfcc_names))\n",
        "\n",
        "        # Select subset of data to use\n",
        "        mfcc_names = mfcc_names[:subset_size]\n",
        "        transcript_names = transcript_names[:subset_size]\n",
        "\n",
        "        # Making sure that we have the same no. of mfcc and transcripts\n",
        "        assert len(mfcc_names) == len(transcript_names)\n",
        "\n",
        "        self.mfccs, self.transcripts = [], []\n",
        "        phon_map = {phoneme: idx for idx, phoneme in enumerate(self.phonemes)}\n",
        "\n",
        "\n",
        "        # TODO: Iterate through mfccs and transcripts\n",
        "        for i in tqdm(range(len(mfcc_names))):\n",
        "\n",
        "            # TODO: Load a single mfcc. Hint: Use numpy\n",
        "            mfcc             = np.load(os.path.join(self.mfcc_dir, mfcc_names[i]))\n",
        "\n",
        "            # TODO: Do Cepstral Normalization of mfcc along the Time Dimension (Think about the correct axis)\n",
        "            mfccs_normalized = (mfcc - np.mean(mfcc, axis=0)) / np.std(mfcc, axis=0)\n",
        "\n",
        "            # Convert mfcc to tensor\n",
        "            mfccs_normalized = torch.tensor(mfccs_normalized, dtype=torch.float32)\n",
        "\n",
        "            # TODO: Load the corresponding transcript\n",
        "            # Remove [SOS] and [EOS] from the transcript\n",
        "            # (Is there an efficient way to do this without traversing through the transcript?)\n",
        "            # Note that SOS will always be in the starting and EOS at end, as the name suggests.\n",
        "            transcript = np.load(os.path.join(self.transcript_dir, transcript_names[i]))[1:-1]\n",
        "\n",
        "            # The available phonemes in the transcript are of string data type\n",
        "            # But the neural network cannot predict strings as such.\n",
        "            # Hence, we map these phonemes to integers\n",
        "\n",
        "            # TODO: Map the phonemes to their corresponding list indexes in self.phonemes\n",
        "            transcript_indices = [phon_map[phoneme] for phoneme in transcript]\n",
        "            # Now, if an element in the transcript is 0, it means that it is 'SIL' (as per the above example)\n",
        "\n",
        "            # Convert transcript to tensor\n",
        "            transcript_indices = torch.tensor(transcript_indices, dtype=torch.int64)\n",
        "\n",
        "            # Append each mfcc to self.mfcc, transcript to self.transcript\n",
        "            self.mfccs.append(mfccs_normalized)\n",
        "            self.transcripts.append(transcript_indices)\n",
        "\n",
        "        # NOTE:\n",
        "        # Each mfcc is of shape T1 x 28, T2 x 28, ...\n",
        "        # Each transcript is of shape (T1+2), (T2+2) before removing [SOS] and [EOS]\n",
        "\n",
        "        # TODO: Concatenate all mfccs in self.mfccs such that\n",
        "        # the final shape is T x 28 (Where T = T1 + T2 + ...)\n",
        "        # Hint: Use torch to concatenate\n",
        "        self.mfccs          = torch.cat(self.mfccs, dim=0)\n",
        "\n",
        "        # TODO: Concatenate all transcripts in self.transcripts such that\n",
        "        # the final shape is (T,) meaning, each time step has one phoneme output\n",
        "        # Hint: Use torch to concatenate\n",
        "        self.transcripts    = torch.cat(self.transcripts, dim=0)\n",
        "\n",
        "        # Length of the dataset is now the length of concatenated mfccs/transcripts\n",
        "        self.length = len(self.mfccs)\n",
        "\n",
        "        # Take some time to think about what we have done.\n",
        "        # self.mfcc is an array of the format (Frames x Features).\n",
        "        # Our goal is to recognize phonemes of each frame\n",
        "\n",
        "        # We can introduce context by padding zeros on top and bottom of self.mfcc\n",
        "        # Hint: Use torch.nn.functional.pad\n",
        "        # torch.nn.functional.pad takes the padding in the form of (left, right, top, bottom) for 2D data\n",
        "        self.mfccs = torch.nn.functional.pad(self.mfccs, (0, 0, self.context, self.context), 'constant', 0)\n",
        "\n",
        "\n",
        "    def __len__(self):\n",
        "        return self.length\n",
        "\n",
        "    def collate_fn(self, batch):\n",
        "      x, y = zip(*batch)\n",
        "      x = torch.stack(x, dim=0)\n",
        "\n",
        "      # Apply augmentations with 70% probability (You can modify the probability)\n",
        "      if np.random.rand() < 0.70:\n",
        "        x = x.transpose(1, 2)  # Shape: (batch_size, freq, time)\n",
        "        x = self.freq_masking(x)\n",
        "        x = self.time_masking(x)\n",
        "        x = x.transpose(1, 2)  # Shape back to: (batch_size, time, freq)\n",
        "\n",
        "      return x, torch.tensor(y)\n",
        "\n",
        "    def __getitem__(self, ind):\n",
        "        # TODO: Based on context and offset, return a frame at given index with context frames to the left, and right.\n",
        "        frames = self.mfccs[ind:ind+2*self.context+1]\n",
        "\n",
        "        # After slicing, you get an array of shape 2*context+1 x 28.\n",
        "\n",
        "        phonemes = self.transcripts[ind]\n",
        "\n",
        "        return frames, phonemes"
      ],
      "metadata": {
        "execution": {
          "iopub.status.busy": "2024-12-31T15:17:54.383641Z",
          "iopub.execute_input": "2024-12-31T15:17:54.383981Z",
          "iopub.status.idle": "2024-12-31T15:17:54.394276Z",
          "shell.execute_reply.started": "2024-12-31T15:17:54.383952Z",
          "shell.execute_reply": "2024-12-31T15:17:54.393413Z"
        },
        "id": "HYU4NAH65dSb",
        "trusted": true
      },
      "outputs": [],
      "execution_count": null
    },
    {
      "cell_type": "code",
      "source": [
        "class AudioTestDataset(torch.utils.data.Dataset):\n",
        "    # TODO: Create a test dataset class similar to the previous class but you dont have transcripts for this\n",
        "    # Imp: Read the mfccs in sorted order, do NOT shuffle the data here or in your dataloader.\n",
        "    # IMPORTANT: Load complete test data to use, DO NOT select subset of test data, else you will get errors when submitting on Kaggle.\n",
        "    def __init__(self, root, context=0, partition=\"test-clean\"):\n",
        "        self.context = context\n",
        "        self.mfcc_dir = os.path.join(root, partition, \"mfcc\")\n",
        "        mfcc_names = sorted(os.listdir(self.mfcc_dir))\n",
        "        self.mfccs = []\n",
        "\n",
        "        for i in tqdm(range(len(mfcc_names))):\n",
        "            mfcc = np.load(os.path.join(self.mfcc_dir, mfcc_names[i]))\n",
        "            mfccs_normalized = (mfcc - np.mean(mfcc, axis=0)) / np.std(mfcc, axis=0)\n",
        "            mfccs_normalized = torch.tensor(mfccs_normalized, dtype=torch.float32)\n",
        "            self.mfccs.append(mfccs_normalized)\n",
        "\n",
        "        self.mfccs = torch.cat(self.mfccs, dim=0)\n",
        "        self.length = len(self.mfccs)\n",
        "        self.mfccs = torch.nn.functional.pad(self.mfccs, (0, 0, self.context, self.context), 'constant', 0)\n",
        "\n",
        "    def __len__(self):\n",
        "        return self.length\n",
        "\n",
        "    def __getitem__(self, ind):\n",
        "        frames = self.mfccs[ind:ind+2*self.context+1]\n",
        "        return frames"
      ],
      "metadata": {
        "execution": {
          "iopub.status.busy": "2024-12-31T15:18:40.554136Z",
          "iopub.execute_input": "2024-12-31T15:18:40.554498Z",
          "iopub.status.idle": "2024-12-31T15:18:40.561523Z",
          "shell.execute_reply.started": "2024-12-31T15:18:40.554472Z",
          "shell.execute_reply": "2024-12-31T15:18:40.560566Z"
        },
        "id": "C0rme6iT5dSb",
        "trusted": true
      },
      "outputs": [],
      "execution_count": null
    },
    {
      "cell_type": "markdown",
      "source": [
        "# Create Datasets"
      ],
      "metadata": {
        "id": "2mlwaKlDt_2c"
      }
    },
    {
      "cell_type": "code",
      "source": [
        "ROOT = \"/content/11785-s25-hw1p2\" # Define the root directory of the dataset here\n",
        "phoneme = PHONEMES\n",
        "context = config['context']\n",
        "\n",
        "# TODO: Create a dataset object using the AudioDataset class for the training data\n",
        "train_data = AudioDataset(ROOT, phonemes=phoneme, context=context, partition=\"train-clean-100\")\n",
        "\n",
        "# TODO: Create a dataset object using the AudioDataset class for the validation data\n",
        "val_data = AudioDataset(ROOT, phonemes=phoneme, context=context, partition=\"dev-clean\")\n",
        "\n",
        "# TODO: Create a dataset object using the AudioTestDataset class for the test data\n",
        "test_data = AudioTestDataset(ROOT, context=context, partition=\"test-clean\")"
      ],
      "metadata": {
        "execution": {
          "iopub.status.busy": "2024-12-31T15:19:09.189592Z",
          "iopub.execute_input": "2024-12-31T15:19:09.189955Z",
          "iopub.status.idle": "2024-12-31T15:24:30.163981Z",
          "shell.execute_reply.started": "2024-12-31T15:19:09.189927Z",
          "shell.execute_reply": "2024-12-31T15:24:30.163061Z"
        },
        "id": "gJvMzHhB5dSc",
        "trusted": true,
        "colab": {
          "base_uri": "https://localhost:8080/",
          "height": 113,
          "referenced_widgets": [
            "9b1c745e5872446f9b153df68ab554db",
            "3ac85447b2d04c38b78be50f567f4285",
            "63f1f1a1d0244898ab2a5279c740e90b",
            "b89994d93dfc45029d9e5bf8849b4265",
            "2ff04dbb7a8c410dae79c2baad57dcc0",
            "7ae70ed09e4940ae9fb5ed33992d2311",
            "5fd10f61d85944d8ae602042ba946a83",
            "42a4024c925740099ce086ef759a40eb",
            "daa9d2ee1ad04a51a521612a708eaa25",
            "46d30b5960dd4b6797eff47868c13cc4",
            "e641f2ad0e814b25b0e19eef7a5b5033",
            "1e42efc9204d49b896d0d8802e94e044",
            "7863e5246b9741fc946fe07308fe39cb",
            "b86d0638e6ce4d1ea11d8a8946ff4b0e",
            "efba9c68d9794064a376b8b35a5e85ef",
            "8cd50de468794593a60066e8ca75ef2a",
            "9f072ca2352e473bb3aebea7bf9dd7dd",
            "d80a167151b9450189c281b13400da3b",
            "28c0225755934677b37e7ae7eceb5e0e",
            "dda2473a06e94e65904add24f1f04404",
            "39de7cc9a12844d59193ae9eb610616e",
            "2ce370e595e94e6085232de0106fd3b7",
            "86fd6b6e5c7c47228cfa54dac16074e8",
            "4eb4166221624f74aec87eaa91c6efa0",
            "47eb12af6f984fa998c4609ac12087f2",
            "78aacb77c2844171afb97418a921d652",
            "a73e83fb3a474dbeb787969c6990ca18",
            "c5358ec496ec4465ac3ce376b6e4142f",
            "710f4a50afac4daa91cda7d9dcdb4bfb",
            "2bc4442073d14be89179d1a903b898cf",
            "db4309f244674ef7af17d1f50e71b7cb",
            "7ddf6214a3e349e9941990b46e444313",
            "fa00f597560d4a20a3ff9103c0f46518"
          ]
        },
        "outputId": "b6b7b4b5-50c4-430a-e007-f8379659d651"
      },
      "outputs": [
        {
          "output_type": "display_data",
          "data": {
            "text/plain": [
              "  0%|          | 0/28539 [00:00<?, ?it/s]"
            ],
            "application/vnd.jupyter.widget-view+json": {
              "version_major": 2,
              "version_minor": 0,
              "model_id": "9b1c745e5872446f9b153df68ab554db"
            }
          },
          "metadata": {}
        },
        {
          "output_type": "display_data",
          "data": {
            "text/plain": [
              "  0%|          | 0/2703 [00:00<?, ?it/s]"
            ],
            "application/vnd.jupyter.widget-view+json": {
              "version_major": 2,
              "version_minor": 0,
              "model_id": "1e42efc9204d49b896d0d8802e94e044"
            }
          },
          "metadata": {}
        },
        {
          "output_type": "display_data",
          "data": {
            "text/plain": [
              "  0%|          | 0/2620 [00:00<?, ?it/s]"
            ],
            "application/vnd.jupyter.widget-view+json": {
              "version_major": 2,
              "version_minor": 0,
              "model_id": "86fd6b6e5c7c47228cfa54dac16074e8"
            }
          },
          "metadata": {}
        }
      ],
      "execution_count": null
    },
    {
      "cell_type": "code",
      "source": [
        "# Define dataloaders for train, val and test datasets\n",
        "# Dataloaders will yield a batch of frames and phonemes of given batch_size at every iteration\n",
        "# We shuffle train dataloader but not val & test dataloader. Why?\n",
        "\n",
        "train_loader = torch.utils.data.DataLoader(\n",
        "    dataset     = train_data,\n",
        "    num_workers = 4,\n",
        "    batch_size  = config['batch_size'],\n",
        "    pin_memory  = True,\n",
        "    shuffle     = True,\n",
        "    collate_fn = train_data.collate_fn\n",
        ")\n",
        "\n",
        "val_loader = torch.utils.data.DataLoader(\n",
        "    dataset     = val_data,\n",
        "    num_workers = 0,\n",
        "    batch_size  = config['batch_size'],\n",
        "    pin_memory  = True,\n",
        "    shuffle     = False\n",
        ")\n",
        "\n",
        "test_loader = torch.utils.data.DataLoader(\n",
        "    dataset     = test_data,\n",
        "    num_workers = 2,\n",
        "    batch_size  = config['batch_size'],\n",
        "    pin_memory  = True,\n",
        "    shuffle     = False,\n",
        ")\n",
        "\n",
        "\n",
        "print(\"Batch size     : \", config['batch_size'])\n",
        "print(\"Context        : \", config['context'])\n",
        "print(\"Input size     : \", (2*config['context']+1)*28)\n",
        "print(\"Output symbols : \", len(PHONEMES))\n",
        "\n",
        "print(\"Train dataset samples = {}, batches = {}\".format(train_data.__len__(), len(train_loader)))\n",
        "print(\"Validation dataset samples = {}, batches = {}\".format(val_data.__len__(), len(val_loader)))\n",
        "print(\"Test dataset samples = {}, batches = {}\".format(test_data.__len__(), len(test_loader)))"
      ],
      "metadata": {
        "execution": {
          "iopub.status.busy": "2024-12-31T15:24:37.104785Z",
          "iopub.execute_input": "2024-12-31T15:24:37.105100Z",
          "iopub.status.idle": "2024-12-31T15:24:37.113609Z",
          "shell.execute_reply.started": "2024-12-31T15:24:37.105072Z",
          "shell.execute_reply": "2024-12-31T15:24:37.112725Z"
        },
        "id": "4mzoYfTKu14s",
        "trusted": true,
        "colab": {
          "base_uri": "https://localhost:8080/"
        },
        "outputId": "6637a267-7385-4a0b-efb3-d532917033f1"
      },
      "outputs": [
        {
          "output_type": "stream",
          "name": "stdout",
          "text": [
            "Batch size     :  1024\n",
            "Context        :  30\n",
            "Input size     :  1708\n",
            "Output symbols :  42\n",
            "Train dataset samples = 36091157, batches = 35246\n",
            "Validation dataset samples = 1928204, batches = 1884\n",
            "Test dataset samples = 1934138, batches = 1889\n"
          ]
        }
      ],
      "execution_count": null
    },
    {
      "cell_type": "code",
      "source": [
        "import matplotlib.pyplot as plt\n",
        "\n",
        "# Testing code to check if your data loaders are working\n",
        "for i, data in enumerate(train_loader):\n",
        "    frames, phoneme = data\n",
        "    print(frames.shape, phoneme.shape)\n",
        "# for i, data in enumerate(test_loader):\n",
        "#     frames = data\n",
        "#     print(frames.shape)\n",
        "\n",
        "    # Visualize sample mfcc to inspect and verify everything is correctly done, especially augmentations\n",
        "    plt.figure(figsize=(10, 6))\n",
        "    plt.imshow(frames[0].numpy().T, aspect='auto', origin='lower', cmap='viridis')\n",
        "    plt.xlabel('Time')\n",
        "    plt.ylabel('Features')\n",
        "    plt.title('Feature Representation')\n",
        "    plt.show()\n",
        "\n",
        "    break"
      ],
      "metadata": {
        "execution": {
          "iopub.status.busy": "2024-12-31T15:27:30.225475Z",
          "iopub.execute_input": "2024-12-31T15:27:30.225789Z",
          "iopub.status.idle": "2024-12-31T15:27:36.866313Z",
          "shell.execute_reply.started": "2024-12-31T15:27:30.225762Z",
          "shell.execute_reply": "2024-12-31T15:27:36.865100Z"
        },
        "id": "n-GV3UvgLSoF",
        "trusted": true,
        "colab": {
          "base_uri": "https://localhost:8080/",
          "height": 582
        },
        "outputId": "653dd39e-145c-4f60-97e1-f65810f8432e"
      },
      "outputs": [
        {
          "output_type": "stream",
          "name": "stdout",
          "text": [
            "torch.Size([1024, 61, 28]) torch.Size([1024])\n"
          ]
        },
        {
          "output_type": "display_data",
          "data": {
            "text/plain": [
              "<Figure size 1000x600 with 1 Axes>"
            ],
            "image/png": "[encoded data removed]"
          },
          "metadata": {}
        }
      ],
      "execution_count": null
    },
    {
      "cell_type": "code",
      "source": [
        "# Testing code to check if your validation data loaders are working\n",
        "all = []\n",
        "for i, data in enumerate(val_loader):\n",
        "    frames, phoneme = data\n",
        "    all.append(phoneme)\n",
        "    break"
      ],
      "metadata": {
        "execution": {
          "iopub.status.busy": "2024-12-24T02:04:28.807726Z",
          "iopub.execute_input": "2024-12-24T02:04:28.807971Z",
          "iopub.status.idle": "2024-12-24T02:04:58.177819Z",
          "shell.execute_reply.started": "2024-12-24T02:04:28.807951Z",
          "shell.execute_reply": "2024-12-24T02:04:58.176831Z"
        },
        "id": "dJTrLe7J5dSc",
        "trusted": true
      },
      "outputs": [],
      "execution_count": null
    },
    {
      "cell_type": "markdown",
      "source": [
        "# Network Architecture\n"
      ],
      "metadata": {
        "id": "Nxjwve20JRJ2"
      }
    },
    {
      "cell_type": "markdown",
      "source": [
        "This section defines your network architecture for the homework. We have given you a sample architecture that can easily clear the very low cutoff for the early submission deadline."
      ],
      "metadata": {
        "id": "3NJzT-mRw6iy"
      }
    },
    {
      "cell_type": "code",
      "source": [
        "# This architecture will make you cross the very low cutoff\n",
        "# However, you need to run a lot of experiments to cross the medium or high cutoff\n",
        "\n",
        "class Network(nn.Module):\n",
        "    def __init__(self, input_size, output_size):\n",
        "        super(Network, self).__init__()\n",
        "\n",
        "        self.model = nn.Sequential(\n",
        "          torch.nn.Linear(input_size, 2496),\n",
        "          torch.nn.SiLU(),\n",
        "          torch.nn.Dropout(0.3),\n",
        "\n",
        "          torch.nn.Linear(2496, 2048),\n",
        "          torch.nn.SiLU(),\n",
        "          torch.nn.Dropout(0.3),\n",
        "\n",
        "          torch.nn.Linear(2048, 1024),\n",
        "          torch.nn.SiLU(),\n",
        "          torch.nn.Dropout(0.3),\n",
        "\n",
        "          torch.nn.Linear(1024, 512),\n",
        "          torch.nn.SiLU(),\n",
        "\n",
        "          # After this, the dimensions will start increasing\n",
        "          torch.nn.Linear(512, 1024),\n",
        "          torch.nn.SiLU(),\n",
        "\n",
        "          torch.nn.Linear(1024, 2048),\n",
        "          torch.nn.SiLU(),\n",
        "\n",
        "          torch.nn.Linear(2048, 2496),\n",
        "          torch.nn.SiLU(),\n",
        "\n",
        "          torch.nn.Linear(2496, output_size)\n",
        "      )\n",
        "\n",
        "        if config['weight_initialization'] is not None:\n",
        "            self.initialize_weights()\n",
        "\n",
        "    def initialize_weights(self):\n",
        "        for m in self.modules():\n",
        "            if isinstance(m, torch.nn.Linear):\n",
        "                if config[\"weight_initialization\"] == \"xavier_normal\":\n",
        "                    torch.nn.init.xavier_normal_(m.weight)\n",
        "                elif config[\"weight_initialization\"] == \"xavier_uniform\":\n",
        "                    torch.nn.init.xavier_uniform_(m.weight)\n",
        "                elif config[\"weight_initialization\"] == \"kaiming_normal\":\n",
        "                    torch.nn.init.kaiming_normal_(m.weight, nonlinearity='relu')\n",
        "                elif config[\"weight_initialization\"] == \"kaiming_uniform\":\n",
        "                    torch.nn.init.kaiming_uniform_(m.weight, nonlinearity='relu')\n",
        "                elif config[\"weight_initialization\"] == \"uniform\":\n",
        "                    torch.nn.init.uniform_(m.weight)\n",
        "                else:\n",
        "                    raise ValueError(\"Invalid weight_initialization value\")\n",
        "\n",
        "                # Initialize bias to 0\n",
        "                m.bias.data.fill_(0)\n",
        "\n",
        "\n",
        "    def forward(self, x):\n",
        "\n",
        "        # Flatten to a 1D vector for each data point\n",
        "        x = torch.flatten(x, start_dim=1)  # Keeps batch size, flattens the rest\n",
        "\n",
        "        return self.model(x)"
      ],
      "metadata": {
        "execution": {
          "iopub.status.busy": "2024-12-31T15:29:20.193622Z",
          "iopub.execute_input": "2024-12-31T15:29:20.193972Z",
          "iopub.status.idle": "2024-12-31T15:29:20.203743Z",
          "shell.execute_reply.started": "2024-12-31T15:29:20.193944Z",
          "shell.execute_reply": "2024-12-31T15:29:20.202883Z"
        },
        "id": "-YsMpN-Exafq",
        "trusted": true
      },
      "outputs": [],
      "execution_count": null
    },
    {
      "cell_type": "markdown",
      "source": [
        "# Define Model, Loss Function and Optimizer"
      ],
      "metadata": {
        "id": "HejoSXe3vMVU"
      }
    },
    {
      "cell_type": "markdown",
      "source": [
        "Here we define the model, loss function, optimizer and optionally a learning rate scheduler."
      ],
      "metadata": {
        "id": "xAhGBH7-xxth"
      }
    },
    {
      "cell_type": "code",
      "source": [
        "INPUT_SIZE  = (2*config['context'] + 1) * 28 # Why is this the case?\n",
        "model       = Network(INPUT_SIZE, len(train_data.phonemes)).to(device).cuda()\n",
        "# print(\"frames:\", frames)\n",
        "summary(model, frames.to(device))\n",
        "# Check number of parameters of your network\n",
        "# Remember, you are limited to 20 million parameters for HW1 (including ensembles)"
      ],
      "metadata": {
        "execution": {
          "iopub.status.busy": "2024-12-31T15:29:23.890697Z",
          "iopub.execute_input": "2024-12-31T15:29:23.891053Z",
          "iopub.status.idle": "2024-12-31T15:29:24.267793Z",
          "shell.execute_reply.started": "2024-12-31T15:29:23.891023Z",
          "shell.execute_reply": "2024-12-31T15:29:24.267100Z"
        },
        "id": "_qtrEM1ZvLje",
        "trusted": true,
        "colab": {
          "base_uri": "https://localhost:8080/"
        },
        "outputId": "cb6f00b8-274d-4904-85de-e3c05eddc6cc"
      },
      "outputs": [
        {
          "output_type": "stream",
          "name": "stdout",
          "text": [
            "----------------------------------------------------------------------------------------------------\n",
            "Layer                   Kernel Shape         Output Shape         # Params (K)      # Mult-Adds (M)\n",
            "====================================================================================================\n",
            "0_Linear                [1708, 2496]         [1024, 2496]             4,265.66                 4.26\n",
            "1_SiLU                             -         [1024, 2496]                    -                    -\n",
            "2_Dropout                          -         [1024, 2496]                    -                    -\n",
            "3_Linear                [2496, 2048]         [1024, 2048]             5,113.86                 5.11\n",
            "4_SiLU                             -         [1024, 2048]                    -                    -\n",
            "5_Dropout                          -         [1024, 2048]                    -                    -\n",
            "6_Linear                [2048, 1024]         [1024, 1024]             2,098.18                 2.10\n",
            "7_SiLU                             -         [1024, 1024]                    -                    -\n",
            "8_Dropout                          -         [1024, 1024]                    -                    -\n",
            "9_Linear                 [1024, 512]          [1024, 512]               524.80                 0.52\n",
            "10_SiLU                            -          [1024, 512]                    -                    -\n",
            "11_Linear                [512, 1024]         [1024, 1024]               525.31                 0.52\n",
            "12_SiLU                            -         [1024, 1024]                    -                    -\n",
            "13_Linear               [1024, 2048]         [1024, 2048]             2,099.20                 2.10\n",
            "14_SiLU                            -         [1024, 2048]                    -                    -\n",
            "15_Linear               [2048, 2496]         [1024, 2496]             5,114.30                 5.11\n",
            "16_SiLU                            -         [1024, 2496]                    -                    -\n",
            "17_Linear                 [2496, 42]           [1024, 42]               104.87                 0.10\n",
            "====================================================================================================\n",
            "# Params:    19,846.19K\n",
            "# Mult-Adds: 19.83M\n",
            "----------------------------------------------------------------------------------------------------\n"
          ]
        }
      ],
      "execution_count": null
    },
    {
      "cell_type": "markdown",
      "source": [
        "# Define Model, Loss Function and Optimizer"
      ],
      "metadata": {
        "id": "uSk4YP63TBnD"
      }
    },
    {
      "cell_type": "markdown",
      "source": [
        "Here we define the model, loss function, optimizer and optionally a learning rate scheduler."
      ],
      "metadata": {
        "id": "cwdxl4RiTBnD"
      }
    },
    {
      "cell_type": "code",
      "source": [
        "criterion = torch.nn.CrossEntropyLoss() # Defining Loss function.\n",
        "# We use CE because the task is multi-class classification\n",
        "\n",
        "model       = Network(INPUT_SIZE, len(train_data.phonemes)).to(device).cuda()\n",
        "model.load_state_dict(torch.load('best_model.pth', weights_only=True))\n",
        "\n",
        "# Choose an appropriate optimizer of your choice\n",
        "optimizer = torch.optim.AdamW(model.parameters(), lr=4.3521329506126624e-7)\n",
        "print(optimizer.param_groups[0]['lr'])\n",
        "\n",
        "# Recommended : Define Scheduler for Learning Rate,\n",
        "# including but not limited to StepLR, MultiStep, CosineAnnealing, CosineAnnealingWithWarmRestarts, ReduceLROnPlateau, etc.\n",
        "# You can refer to Pytorch documentation for more information on how to use them.\n",
        "reduceScheduler = torch.optim.lr_scheduler.ReduceLROnPlateau(optimizer, mode='min', factor=0.6, patience=3)\n",
        "# oneScheduler = torch.optim.lr_scheduler.OneCycleLR(optimizer, max_lr=0.01, total_steps=50*len(train_loader))\n",
        "cosineAnneal = torch.optim.lr_scheduler.CosineAnnealingLR(optimizer, T_max=3)\n",
        "\n",
        "\n",
        "\n",
        "# Is your training time very high?\n",
        "# Look into mixed precision training if your GPU (Tesla T4, V100, etc) can make use of it\n",
        "# Refer - https://pytorch.org/docs/stable/notes/amp_examples.html\n",
        "# Mixed Precision Training with AMP for speedup\n",
        "scaler = torch.amp.GradScaler('cuda', enabled=True)"
      ],
      "metadata": {
        "trusted": true,
        "execution": {
          "iopub.status.busy": "2024-12-31T15:29:28.681153Z",
          "iopub.execute_input": "2024-12-31T15:29:28.681502Z",
          "iopub.status.idle": "2024-12-31T15:29:29.386622Z",
          "shell.execute_reply.started": "2024-12-31T15:29:28.681476Z",
          "shell.execute_reply": "2024-12-31T15:29:29.385517Z"
        },
        "id": "kZgQ7AgyTBnE",
        "colab": {
          "base_uri": "https://localhost:8080/"
        },
        "outputId": "5ef120ce-6f15-4816-91b5-9ea62ac140b0"
      },
      "outputs": [
        {
          "output_type": "stream",
          "name": "stdout",
          "text": [
            "4.3521329506126624e-07\n"
          ]
        }
      ],
      "execution_count": null
    },
    {
      "cell_type": "markdown",
      "source": [
        "# Training and Validation Functions"
      ],
      "metadata": {
        "id": "IBwunYpyugFg"
      }
    },
    {
      "cell_type": "markdown",
      "source": [
        "This section covers the training, and validation functions for each epoch of running your experiment with a given model architecture. The code has been provided to you, but we recommend going through the comments to understand the workflow to enable you to write these loops for future HWs."
      ],
      "metadata": {
        "id": "1JgeNhx4x2-P"
      }
    },
    {
      "cell_type": "code",
      "source": [
        "# CLEAR RAM!!\n",
        "torch.cuda.empty_cache()\n",
        "gc.collect()"
      ],
      "metadata": {
        "execution": {
          "iopub.status.busy": "2024-12-31T15:29:33.551839Z",
          "iopub.execute_input": "2024-12-31T15:29:33.552602Z",
          "iopub.status.idle": "2024-12-31T15:29:33.739892Z",
          "shell.execute_reply.started": "2024-12-31T15:29:33.552569Z",
          "shell.execute_reply": "2024-12-31T15:29:33.739136Z"
        },
        "id": "XblOHEVtKab2",
        "trusted": true,
        "colab": {
          "base_uri": "https://localhost:8080/",
          "height": 35
        },
        "outputId": "cc2392b3-916a-40be-bf0d-f66001aa2767"
      },
      "outputs": [
        {
          "output_type": "execute_result",
          "data": {
            "text/plain": [
              "680"
            ]
          },
          "metadata": {},
          "execution_count": 136
        }
      ],
      "execution_count": null
    },
    {
      "cell_type": "code",
      "source": [
        "def train(model, dataloader, optimizer, criterion):\n",
        "\n",
        "    model.train()\n",
        "    tloss, tacc = 0, 0 # Monitoring loss and accuracy\n",
        "    batch_bar   = tqdm(total=len(train_loader), dynamic_ncols=True, leave=False, position=0, desc='Train')\n",
        "\n",
        "    for i, (frames, phonemes) in enumerate(dataloader):\n",
        "\n",
        "        ### Initialize Gradients\n",
        "        optimizer.zero_grad()\n",
        "\n",
        "        frames      = frames.to(device)\n",
        "        phonemes    = phonemes.to(device)\n",
        "\n",
        "        with torch.autocast(device_type=device, dtype=torch.float16):\n",
        "            ### Forward Propagation\n",
        "            logits  = model(frames)\n",
        "\n",
        "            ### Loss Calculation\n",
        "            loss    = criterion(logits, phonemes)\n",
        "\n",
        "        ### Backward Propagation\n",
        "        scaler.scale(loss).backward()\n",
        "\n",
        "        # OPTIONAL: You can add gradient clipping here, if you face issues of exploding gradients\n",
        "\n",
        "        ### Gradient Descent\n",
        "        scaler.step(optimizer)\n",
        "        scaler.update()\n",
        "\n",
        "        tloss   += loss.item()\n",
        "        tacc    += torch.sum(torch.argmax(logits, dim= 1) == phonemes).item()/logits.shape[0]\n",
        "\n",
        "        batch_bar.set_postfix(loss=\"{:.04f}\".format(float(tloss / (i + 1))),\n",
        "                              acc=\"{:.04f}%\".format(float(tacc*100 / (i + 1))))\n",
        "        batch_bar.update()\n",
        "\n",
        "        ### Release memory\n",
        "        del frames, phonemes, logits\n",
        "        torch.cuda.empty_cache()\n",
        "\n",
        "\n",
        "    batch_bar.close()\n",
        "    tloss   /= len(train_loader)\n",
        "    tacc    /= len(train_loader)\n",
        "\n",
        "\n",
        "    return tloss, tacc"
      ],
      "metadata": {
        "execution": {
          "iopub.status.busy": "2024-12-31T15:29:35.532955Z",
          "iopub.execute_input": "2024-12-31T15:29:35.533310Z",
          "iopub.status.idle": "2024-12-31T15:29:35.539902Z",
          "shell.execute_reply.started": "2024-12-31T15:29:35.533280Z",
          "shell.execute_reply": "2024-12-31T15:29:35.539084Z"
        },
        "id": "8wjPz7DHqKcL",
        "trusted": true
      },
      "outputs": [],
      "execution_count": null
    },
    {
      "cell_type": "code",
      "source": [
        "def eval(model, dataloader):\n",
        "\n",
        "    model.eval() # set model in evaluation mode\n",
        "    vloss, vacc = 0, 0 # Monitoring loss and accuracy\n",
        "    batch_bar   = tqdm(total=len(val_loader), dynamic_ncols=True, position=0, leave=False, desc='Val')\n",
        "\n",
        "    for i, (frames, phonemes) in enumerate(dataloader):\n",
        "\n",
        "        ### Move data to device (ideally GPU)\n",
        "        frames      = frames.to(device)\n",
        "        phonemes    = phonemes.to(device)\n",
        "\n",
        "        # makes sure that there are no gradients computed as we are not training the model now\n",
        "        with torch.inference_mode():\n",
        "            ### Forward Propagation\n",
        "            logits  = model(frames)\n",
        "            ### Loss Calculation\n",
        "            loss    = criterion(logits, phonemes)\n",
        "\n",
        "        vloss   += loss.item()\n",
        "        vacc    += torch.sum(torch.argmax(logits, dim= 1) == phonemes).item()/logits.shape[0]\n",
        "\n",
        "        # Do you think we need loss.backward() and optimizer.step() here?\n",
        "\n",
        "        batch_bar.set_postfix(loss=\"{:.04f}\".format(float(vloss / (i + 1))),\n",
        "                              acc=\"{:.04f}%\".format(float(vacc*100 / (i + 1))))\n",
        "        batch_bar.update()\n",
        "\n",
        "        ### Release memory\n",
        "        del frames, phonemes, logits\n",
        "        torch.cuda.empty_cache()\n",
        "\n",
        "    batch_bar.close()\n",
        "    vloss   /= len(val_loader)\n",
        "    vacc    /= len(val_loader)\n",
        "\n",
        "    return vloss, vacc"
      ],
      "metadata": {
        "execution": {
          "iopub.status.busy": "2024-12-31T15:29:39.023658Z",
          "iopub.execute_input": "2024-12-31T15:29:39.024010Z",
          "iopub.status.idle": "2024-12-31T15:29:39.030046Z",
          "shell.execute_reply.started": "2024-12-31T15:29:39.023980Z",
          "shell.execute_reply": "2024-12-31T15:29:39.029273Z"
        },
        "id": "Q5npQNFH315V",
        "trusted": true
      },
      "outputs": [],
      "execution_count": null
    },
    {
      "cell_type": "markdown",
      "source": [
        "# Weights and Biases Setup"
      ],
      "metadata": {
        "id": "yMd_XxPku5qp"
      }
    },
    {
      "cell_type": "markdown",
      "source": [
        "This section is to enable logging metrics and files with Weights and Biases. Please refer to wandb documentationa and recitation 0 that covers the use of weights and biases for logging, hyperparameter tuning and monitoring your runs for your homeworks. Using this tool makes it very easy to show results when submitting your code and models for homeworks, and also extremely useful for study groups to organize and run ablations under a single team in wandb.\n",
        "\n",
        "We have written code for you to make use of it out of the box, so that you start using wandb for all your HWs from the beginning."
      ],
      "metadata": {
        "id": "tjIbhR1wwbgI"
      }
    },
    {
      "cell_type": "code",
      "source": [
        "wandb.login(key=\"e276e903a3049dda6709072b941cd04ab18f38fd\") #API Key is in your wandb account, under settings (wandb.ai/settings)"
      ],
      "metadata": {
        "execution": {
          "iopub.status.busy": "2024-12-31T15:29:45.702239Z",
          "iopub.execute_input": "2024-12-31T15:29:45.702653Z",
          "iopub.status.idle": "2024-12-31T15:29:52.086338Z",
          "shell.execute_reply.started": "2024-12-31T15:29:45.702611Z",
          "shell.execute_reply": "2024-12-31T15:29:52.085568Z"
        },
        "id": "SCDYx5VEu6qI",
        "trusted": true,
        "colab": {
          "base_uri": "https://localhost:8080/"
        },
        "outputId": "09109ff4-b157-4cce-8cfa-b715314240b7"
      },
      "outputs": [
        {
          "output_type": "stream",
          "name": "stderr",
          "text": [
            "\u001b[34m\u001b[1mwandb\u001b[0m: \u001b[33mWARNING\u001b[0m Calling wandb.login() after wandb.init() has no effect.\n"
          ]
        },
        {
          "output_type": "execute_result",
          "data": {
            "text/plain": [
              "True"
            ]
          },
          "metadata": {},
          "execution_count": 83
        }
      ],
      "execution_count": null
    },
    {
      "cell_type": "code",
      "source": [
        "# Create your wandb run\n",
        "run = wandb.init(\n",
        "    name    = \"silu-time-pt2\", ### Wandb creates random run names if you skip this field, we recommend you give useful names\n",
        "    # reinit  = True, ### Allows reinitalizing runs when you re-run this cell\n",
        "    id     = \"2ore6tgp\", ### Insert specific run id here if you want to resume a previous run\n",
        "    resume = \"must\", ### You need this to resume previous runs, but comment out reinit = True when using this\n",
        "    project = \"hw1p2\", ### Project should be created in your wandb account\n",
        "    config  = config ### Wandb Config for your run\n",
        ")"
      ],
      "metadata": {
        "execution": {
          "iopub.status.busy": "2024-12-31T15:29:54.895254Z",
          "iopub.execute_input": "2024-12-31T15:29:54.895747Z",
          "iopub.status.idle": "2024-12-31T15:30:01.107921Z",
          "shell.execute_reply.started": "2024-12-31T15:29:54.895723Z",
          "shell.execute_reply": "2024-12-31T15:30:01.106993Z"
        },
        "id": "xvUnYd3Bw2up",
        "trusted": true,
        "colab": {
          "base_uri": "https://localhost:8080/",
          "height": 123
        },
        "outputId": "e5265b39-70a3-4e1d-f92f-f2d570b4988d"
      },
      "outputs": [
        {
          "output_type": "stream",
          "name": "stderr",
          "text": [
            "\u001b[34m\u001b[1mwandb\u001b[0m: Currently logged in as: \u001b[33mbconnaug\u001b[0m (\u001b[33mbconnaug-carnegie-mellon-university\u001b[0m). Use \u001b[1m`wandb login --relogin`\u001b[0m to force relogin\n"
          ]
        },
        {
          "output_type": "display_data",
          "data": {
            "text/plain": [
              "<IPython.core.display.HTML object>"
            ],
            "text/html": [
              "Tracking run with wandb version 0.19.1"
            ]
          },
          "metadata": {}
        },
        {
          "output_type": "display_data",
          "data": {
            "text/plain": [
              "<IPython.core.display.HTML object>"
            ],
            "text/html": [
              "Run data is saved locally in <code>/content/wandb/run-20250206_201453-2ore6tgp</code>"
            ]
          },
          "metadata": {}
        },
        {
          "output_type": "display_data",
          "data": {
            "text/plain": [
              "<IPython.core.display.HTML object>"
            ],
            "text/html": [
              "Resuming run <strong><a href='https://wandb.ai/bconnaug-carnegie-mellon-university/hw1p2/runs/2ore6tgp' target=\"_blank\">silu-time-pt2</a></strong> to <a href='https://wandb.ai/bconnaug-carnegie-mellon-university/hw1p2' target=\"_blank\">Weights & Biases</a> (<a href='https://wandb.me/developer-guide' target=\"_blank\">docs</a>)<br>"
            ]
          },
          "metadata": {}
        },
        {
          "output_type": "display_data",
          "data": {
            "text/plain": [
              "<IPython.core.display.HTML object>"
            ],
            "text/html": [
              " View project at <a href='https://wandb.ai/bconnaug-carnegie-mellon-university/hw1p2' target=\"_blank\">https://wandb.ai/bconnaug-carnegie-mellon-university/hw1p2</a>"
            ]
          },
          "metadata": {}
        },
        {
          "output_type": "display_data",
          "data": {
            "text/plain": [
              "<IPython.core.display.HTML object>"
            ],
            "text/html": [
              " View run at <a href='https://wandb.ai/bconnaug-carnegie-mellon-university/hw1p2/runs/2ore6tgp' target=\"_blank\">https://wandb.ai/bconnaug-carnegie-mellon-university/hw1p2/runs/2ore6tgp</a>"
            ]
          },
          "metadata": {}
        }
      ],
      "execution_count": null
    },
    {
      "cell_type": "code",
      "source": [
        "### Save your model architecture as a string with str(model)\n",
        "model_arch  = str(model)\n",
        "\n",
        "### Save it in a txt file\n",
        "arch_file   = open(\"model_arch.txt\", \"w\")\n",
        "file_write  = arch_file.write(model_arch)\n",
        "arch_file.close()\n",
        "\n",
        "### log it in your wandb run with wandb.save()\n",
        "wandb.save('model_arch.txt')"
      ],
      "metadata": {
        "execution": {
          "iopub.status.busy": "2024-12-31T15:30:12.131957Z",
          "iopub.execute_input": "2024-12-31T15:30:12.132356Z",
          "iopub.status.idle": "2024-12-31T15:30:12.142067Z",
          "shell.execute_reply.started": "2024-12-31T15:30:12.132322Z",
          "shell.execute_reply": "2024-12-31T15:30:12.141280Z"
        },
        "id": "wft15E_IxYFi",
        "trusted": true,
        "colab": {
          "base_uri": "https://localhost:8080/"
        },
        "outputId": "a21048f4-2901-49e6-e99e-302428d7920a"
      },
      "outputs": [
        {
          "output_type": "execute_result",
          "data": {
            "text/plain": [
              "['/content/wandb/run-20250206_120626-2ore6tgp/files/model_arch.txt']"
            ]
          },
          "metadata": {},
          "execution_count": 42
        }
      ],
      "execution_count": null
    },
    {
      "cell_type": "markdown",
      "source": [
        "# Experiment"
      ],
      "metadata": {
        "id": "nclx_04fu7Dd"
      }
    },
    {
      "cell_type": "markdown",
      "source": [
        "Now, it is time to finally run your ablations! Have fun!"
      ],
      "metadata": {
        "id": "MdLMWfEpyGOB"
      }
    },
    {
      "cell_type": "code",
      "source": [
        "# Iterate over number of epochs to train and evaluate your model\n",
        "torch.cuda.empty_cache()\n",
        "gc.collect()\n",
        "\n",
        "best_accuracy = 0.8597689424097665\n",
        "config['epochs'] = 1\n",
        "optimizer.param_groups[0]['lr'] = 4.3521329506126624e-7\n",
        "\n",
        "wandb.watch(model, log=\"all\")\n",
        "for epoch in range(config['epochs']):\n",
        "\n",
        "    print(\"\\nEpoch {}/{}\".format(epoch+1, config['epochs']))\n",
        "\n",
        "    curr_lr                 = float(optimizer.param_groups[0]['lr'])\n",
        "    print(\"\\lr {:.07f}\".format(curr_lr))\n",
        "    train_loss, train_acc   = train(model, train_loader, optimizer, criterion)\n",
        "    val_loss, val_acc       = eval(model, val_loader)\n",
        "\n",
        "\n",
        "    print(\"\\tTrain Acc {:.04f}%\\tTrain Loss {:.04f}\\t Learning Rate {:.07f}\".format(train_acc*100, train_loss, curr_lr))\n",
        "    print(\"\\tVal Acc {:.04f}%\\tVal Loss {:.04f}\".format(val_acc*100, val_loss))\n",
        "\n",
        "    ## Log metrics at each epoch in your run\n",
        "    # Optionally, you can log at each batch inside train/eval functions\n",
        "    # (explore wandb documentation/wandb recitation)\n",
        "    wandb.log({'train_acc': train_acc*100, 'train_loss': train_loss,\n",
        "               'val_acc': val_acc*100, 'valid_loss': val_loss, 'lr': curr_lr})\n",
        "\n",
        "    # If using a scheduler, step the learning rate here, otherwise comment this line\n",
        "    # Depending on the scheduler in use, you may or may not need to pass in a metric into the step function, so read the docs well\n",
        "    # use onecyclelr for first 24, then reducelronplateau\n",
        "    # if epoch < 15:\n",
        "    #   oneScheduler.step()\n",
        "    # else:\n",
        "    reduceScheduler.step(val_acc)\n",
        "    # cosineAnneal.step()\n",
        "    # scheduler.step(val_acc)\n",
        "\n",
        "    ## Highly Recommended: Save checkpoint in drive and/or wandb if accuracy is better than your current best\n",
        "    if val_acc > best_accuracy:\n",
        "      torch.save(model.state_dict(), 'best_model.pth')\n",
        "      best_accuracy = val_acc"
      ],
      "metadata": {
        "trusted": true,
        "execution": {
          "iopub.status.busy": "2024-12-31T15:30:23.247745Z",
          "iopub.execute_input": "2024-12-31T15:30:23.248062Z"
        },
        "id": "4NNCA5DDTBnO",
        "colab": {
          "base_uri": "https://localhost:8080/",
          "height": 108,
          "referenced_widgets": [
            "af55f0930b3b4ec9a6917bcdb93bf7d0",
            "e9a6fd46151543e9b36b438a05243925",
            "29cf7bb6e4914cbab249b36e9777a987",
            "c336a65f0c7e45f8be343be30afd1bb9",
            "0913324293cd422d86e457fa5ca5e0ed",
            "54048715866747798c9390c6a9187ea3",
            "586bde86be6a4123a98a5d847099dfdd",
            "a183edad206140a696786a34ae05c860",
            "5ea6969210e4468d9fe2566487466b0f",
            "2f72e97abc9044c8a42dc06474031462",
            "2992066de5e44c3a96b089dc5c99f31b",
            "6e0b1dcb5f5b4dfd9e8acf1def0aaa36",
            "6604f5d81c204a6d853fbdead0e0a230",
            "0788ef674b4b436a87fefe3b82c5e8e3",
            "71d94d2d27b440398e741b4f326e27b3",
            "cc3a70886347457d8dadefb5784c3406",
            "e667d9ba76184cb6ae69a404b0802212",
            "6e036124a15049e08553f95ef277dd87",
            "1097fd5fafec440281a091e09bb2707b",
            "6c8dcaa20f33459d9f41f88d95d68690",
            "d0e7c71d237943b397f130c8c2824873",
            "2e699226a0604fed89cca6a81c982d3e"
          ]
        },
        "outputId": "cf3a4e3c-3701-4217-942b-010a4d4aae4e"
      },
      "outputs": [
        {
          "output_type": "stream",
          "name": "stdout",
          "text": [
            "\n",
            "Epoch 1/1\n",
            "\\lr 0.0000004\n"
          ]
        },
        {
          "output_type": "display_data",
          "data": {
            "text/plain": [
              "Train:   0%|          | 0/35246 [00:00<?, ?it/s]"
            ],
            "application/vnd.jupyter.widget-view+json": {
              "version_major": 2,
              "version_minor": 0,
              "model_id": "af55f0930b3b4ec9a6917bcdb93bf7d0"
            }
          },
          "metadata": {}
        },
        {
          "output_type": "display_data",
          "data": {
            "text/plain": [
              "Val:   0%|          | 0/1884 [00:00<?, ?it/s]"
            ],
            "application/vnd.jupyter.widget-view+json": {
              "version_major": 2,
              "version_minor": 0,
              "model_id": "6e0b1dcb5f5b4dfd9e8acf1def0aaa36"
            }
          },
          "metadata": {}
        },
        {
          "output_type": "stream",
          "name": "stdout",
          "text": [
            "\tTrain Acc 84.3312%\tTrain Loss 0.4587\t Learning Rate 0.0000004\n",
            "\tVal Acc 85.9863%\tVal Loss 0.4117\n"
          ]
        }
      ],
      "execution_count": null
    },
    {
      "cell_type": "markdown",
      "source": [
        "# Testing and submission to Kaggle"
      ],
      "metadata": {
        "id": "_kXwf5YUo_4A"
      }
    },
    {
      "cell_type": "markdown",
      "source": [
        "Before we get to the following code, make sure to see the format of submission given in *sample_submission.csv*. Once you have done so, it is time to fill the following function to complete your inference on test data. Refer the eval function from previous cells to get an idea of how to go about completing this function."
      ],
      "metadata": {
        "id": "WI1hSFYLpJvH"
      }
    },
    {
      "cell_type": "code",
      "source": [
        "def test(model, test_loader):\n",
        "    ### What you call for model to perform inference?\n",
        "    model.eval() # TODO train or eval?\n",
        "\n",
        "    ### List to store predicted phonemes of test data\n",
        "    test_predictions = []\n",
        "\n",
        "    ### Which mode do you need to avoid gradients?\n",
        "    with torch.no_grad(): # TODO\n",
        "\n",
        "        for i, mfccs in enumerate(tqdm(test_loader)):\n",
        "\n",
        "            mfccs   = mfccs.to(device)\n",
        "\n",
        "            logits  = model(mfccs)\n",
        "\n",
        "            ### Get most likely predicted phoneme with argmax\n",
        "            predicted_phonemes = torch.argmax(logits, axis=1)\n",
        "            # print(len(predicted_phonemes))\n",
        "\n",
        "            ### How do you store predicted_phonemes with test_predictions? Hint, look at eval\n",
        "            # Remember the phonemes were converted to their corresponding integer indices earlier, and the results of the argmax is a list of the indices of the predicted phonemes.\n",
        "            # So how do you get and store the actual predicted phonemes\n",
        "            # TODO: Store predicted_phonemes\\\n",
        "            for phon in predicted_phonemes:\n",
        "              actual_phon = PHONEMES[phon]\n",
        "              test_predictions.append(actual_phon)\n",
        "\n",
        "    return test_predictions"
      ],
      "metadata": {
        "id": "ijLrIJFl5dSf",
        "trusted": true,
        "execution": {
          "iopub.status.busy": "2024-12-24T02:20:10.370733Z",
          "iopub.execute_input": "2024-12-24T02:20:10.371165Z",
          "iopub.status.idle": "2024-12-24T02:20:10.378449Z",
          "shell.execute_reply.started": "2024-12-24T02:20:10.371126Z",
          "shell.execute_reply": "2024-12-24T02:20:10.377340Z"
        }
      },
      "outputs": [],
      "execution_count": null
    },
    {
      "cell_type": "code",
      "source": [
        "predictions = test(model, test_loader)"
      ],
      "metadata": {
        "id": "wG9v6Xmxu7wp",
        "trusted": true,
        "execution": {
          "iopub.status.busy": "2024-12-24T02:21:22.050471Z",
          "iopub.execute_input": "2024-12-24T02:21:22.050782Z",
          "iopub.status.idle": "2024-12-24T02:22:10.946756Z",
          "shell.execute_reply.started": "2024-12-24T02:21:22.050753Z",
          "shell.execute_reply": "2024-12-24T02:22:10.945858Z"
        },
        "colab": {
          "base_uri": "https://localhost:8080/",
          "height": 49,
          "referenced_widgets": [
            "d1d79346146546f0a6b4877bddd003dd",
            "bcac4a7ed6bb402aa935896b8e576e7f",
            "05e90460505146f2a19fcda58a704178",
            "901b4be0155c42f1bde79a3f78e27328",
            "13cb1cb440ea4807a41e314f68909339",
            "76ff3c2f80654161bccf7882b6655623",
            "ee7e519c98b84386bd09850bcc96a9f1",
            "4b34e9878061432b98d7318da21532c3",
            "7eec6752ccde4613b330353604f015f3",
            "b53821fe52f44ee28229686287c391b7",
            "baca865d3dac42a78d1e2dd4b7b51a0a"
          ]
        },
        "outputId": "e6c7edd8-7ba7-4386-b58e-c1f10d4c950c"
      },
      "outputs": [
        {
          "output_type": "display_data",
          "data": {
            "text/plain": [
              "  0%|          | 0/1889 [00:00<?, ?it/s]"
            ],
            "application/vnd.jupyter.widget-view+json": {
              "version_major": 2,
              "version_minor": 0,
              "model_id": "d1d79346146546f0a6b4877bddd003dd"
            }
          },
          "metadata": {}
        }
      ],
      "execution_count": null
    },
    {
      "cell_type": "code",
      "source": [
        "### Create CSV file with predictions\n",
        "with open(\"./submission.csv\", \"w+\") as f:\n",
        "    f.write(\"id,label\\n\")\n",
        "    for i in range(len(predictions)):\n",
        "        f.write(\"{},{}\\n\".format(i, predictions[i]))"
      ],
      "metadata": {
        "id": "_I6AVEY45dSg",
        "trusted": true,
        "execution": {
          "iopub.status.busy": "2024-12-24T02:22:12.849571Z",
          "iopub.execute_input": "2024-12-24T02:22:12.849873Z",
          "iopub.status.idle": "2024-12-24T02:22:14.184114Z",
          "shell.execute_reply.started": "2024-12-24T02:22:12.849849Z",
          "shell.execute_reply": "2024-12-24T02:22:14.183417Z"
        }
      },
      "outputs": [],
      "execution_count": null
    },
    {
      "cell_type": "code",
      "source": [
        "### Finish your wandb run\n",
        "run.finish()"
      ],
      "metadata": {
        "id": "6Wf-P25TXU0N",
        "trusted": true,
        "execution": {
          "iopub.status.busy": "2024-12-24T02:22:17.280510Z",
          "iopub.execute_input": "2024-12-24T02:22:17.280785Z",
          "iopub.status.idle": "2024-12-24T02:22:18.714924Z",
          "shell.execute_reply.started": "2024-12-24T02:22:17.280761Z",
          "shell.execute_reply": "2024-12-24T02:22:18.714234Z"
        },
        "colab": {
          "base_uri": "https://localhost:8080/",
          "height": 488
        },
        "outputId": "5e684444-f041-467f-cd09-489c48d1fbe8"
      },
      "outputs": [
        {
          "output_type": "display_data",
          "data": {
            "text/plain": [
              "<IPython.core.display.HTML object>"
            ],
            "text/html": []
          },
          "metadata": {}
        },
        {
          "output_type": "display_data",
          "data": {
            "text/plain": [
              "<IPython.core.display.HTML object>"
            ],
            "text/html": [
              "<br>    <style><br>        .wandb-row {<br>            display: flex;<br>            flex-direction: row;<br>            flex-wrap: wrap;<br>            justify-content: flex-start;<br>            width: 100%;<br>        }<br>        .wandb-col {<br>            display: flex;<br>            flex-direction: column;<br>            flex-basis: 100%;<br>            flex: 1;<br>            padding: 10px;<br>        }<br>    </style><br><div class=\"wandb-row\"><div class=\"wandb-col\"><h3>Run history:</h3><br/><table class=\"wandb\"><tr><td>lr</td><td>██████████████████████████████▄▄▄▄▁</td></tr><tr><td>train_acc</td><td>▁▄▄▅▅▆▆▆▆▆▇▇▇▇▇▇▇▇▇▇▇▇▇▇▇▇▇▇▇▇█████</td></tr><tr><td>train_loss</td><td>█▅▅▄▄▃▃▃▃▃▂▂▂▂▂▂▂▂▂▂▂▂▂▂▂▂▂▂▂▂▁▁▁▁▁</td></tr><tr><td>val_acc</td><td>▁▃▄▄▅▅▅▆▆▆▆▆▆▇▆▇▇▇▇▇▇▇▇▇▇▇▇▇▇▇█████</td></tr><tr><td>valid_loss</td><td>█▆▅▅▄▄▄▃▃▃▃▃▃▂▃▂▂▂▂▂▂▂▂▂▂▂▂▂▂▂▁▁▁▁▁</td></tr></table><br/></div><div class=\"wandb-col\"><h3>Run summary:</h3><br/><table class=\"wandb\"><tr><td>lr</td><td>0.00026</td></tr><tr><td>train_acc</td><td>80.16019</td></tr><tr><td>train_loss</td><td>0.60251</td></tr><tr><td>val_acc</td><td>83.37341</td></tr><tr><td>valid_loss</td><td>0.49855</td></tr></table><br/></div></div>"
            ]
          },
          "metadata": {}
        },
        {
          "output_type": "display_data",
          "data": {
            "text/plain": [
              "<IPython.core.display.HTML object>"
            ],
            "text/html": [
              " View run <strong style=\"color:#cdcd00\">silu-time-pt2</strong> at: <a href='https://wandb.ai/bconnaug-carnegie-mellon-university/hw1p2/runs/2ore6tgp' target=\"_blank\">https://wandb.ai/bconnaug-carnegie-mellon-university/hw1p2/runs/2ore6tgp</a><br> View project at: <a href='https://wandb.ai/bconnaug-carnegie-mellon-university/hw1p2' target=\"_blank\">https://wandb.ai/bconnaug-carnegie-mellon-university/hw1p2</a><br>Synced 5 W&B file(s), 0 media file(s), 0 artifact file(s) and 1 other file(s)"
            ]
          },
          "metadata": {}
        },
        {
          "output_type": "display_data",
          "data": {
            "text/plain": [
              "<IPython.core.display.HTML object>"
            ],
            "text/html": [
              "Find logs at: <code>./wandb/run-20250206_120626-2ore6tgp/logs</code>"
            ]
          },
          "metadata": {}
        }
      ],
      "execution_count": null
    },
    {
      "cell_type": "code",
      "source": [
        "### Submit to kaggle competition using kaggle API (Uncomment below to use)\n",
        "!kaggle competitions submit -c 11785-spring-25-hw-1-p-2 -f /content/submission.csv -m \"11th Submission\"\n",
        "\n",
        "### However, its always safer to download the csv file and then upload to kaggle"
      ],
      "metadata": {
        "execution": {
          "execution_failed": "2024-12-24T01:53:07.886Z"
        },
        "id": "LjcammuCxMKN",
        "trusted": true,
        "colab": {
          "base_uri": "https://localhost:8080/"
        },
        "outputId": "9c5c0ace-0e87-4d32-ac6d-d9bc165c0dfe"
      },
      "outputs": [
        {
          "output_type": "stream",
          "name": "stdout",
          "text": [
            "100% 19.3M/19.3M [00:00<00:00, 20.8MB/s]\n",
            "Successfully submitted to 11785_Spring25_HW1P2"
          ]
        }
      ],
      "execution_count": null
    }
  ]
}